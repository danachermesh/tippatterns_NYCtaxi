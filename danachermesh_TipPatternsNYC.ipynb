{
 "cells": [
  {
   "cell_type": "markdown",
   "metadata": {},
   "source": [
    "# NYC Taxi tip patterns \n",
    "\n",
    "## Objective\n",
    "This analysis aims to describe patterns related to tip amounts that passengers leave to taxi drivers. "
   ]
  },
  {
   "cell_type": "markdown",
   "metadata": {},
   "source": [
    "## Data\n",
    "NYC yellow taxi data for the first half of 2013 was retrieved through https://bigquery.cloud.google.com/table/imjasonh-storage:nyctaxi.trip_data. Subset of the data of 10,000 observations were obtained. For reproducibility, please copy the query in each task and copy to the Query Table text box."
   ]
  },
  {
   "cell_type": "markdown",
   "metadata": {},
   "source": [
    "# 0. Imports"
   ]
  },
  {
   "cell_type": "code",
   "execution_count": 1,
   "metadata": {},
   "outputs": [
    {
     "name": "stdout",
     "output_type": "stream",
     "text": [
      "Populating the interactive namespace from numpy and matplotlib\n"
     ]
    },
    {
     "name": "stderr",
     "output_type": "stream",
     "text": [
      "/Applications/anaconda/lib/python3.6/site-packages/statsmodels/compat/pandas.py:56: FutureWarning: The pandas.core.datetools module is deprecated and will be removed in a future version. Please use the pandas.tseries module instead.\n",
      "  from pandas.core import datetools\n"
     ]
    }
   ],
   "source": [
    "import pandas as pd\n",
    "import numpy as np\n",
    "\n",
    "import scipy as sp\n",
    "from scipy import stats\n",
    "\n",
    "import matplotlib.pylab as pl\n",
    "import seaborn as sns\n",
    "sns.set_style('whitegrid')\n",
    "%pylab inline\n",
    "\n",
    "import statsmodels.formula.api as smf\n",
    "import statsmodels.api as sm"
   ]
  },
  {
   "cell_type": "markdown",
   "metadata": {},
   "source": [
    "# 1.\tWhat was the average tip amount in June 2013?  Please give the average tip amount in dollars and the average tip as a proportion of ride cost.  "
   ]
  },
  {
   "cell_type": "markdown",
   "metadata": {},
   "source": [
    "For this task I query for the rides of only June 2013, a subset of 10000 observations. SQL query:\n",
    "\n",
    "```\n",
    "SELECT * FROM [imjasonh-storage:nyctaxi.trip_fare] \n",
    "where pickup_datetime between '2013-06-01' and '2013-06-30 23:59:59'\n",
    "LIMIT 10000\n",
    "```\n",
    "\n",
    "## Data read in + cleaning"
   ]
  },
  {
   "cell_type": "code",
   "execution_count": 2,
   "metadata": {
    "scrolled": false
   },
   "outputs": [
    {
     "data": {
      "text/html": [
       "<div>\n",
       "<style>\n",
       "    .dataframe thead tr:only-child th {\n",
       "        text-align: right;\n",
       "    }\n",
       "\n",
       "    .dataframe thead th {\n",
       "        text-align: left;\n",
       "    }\n",
       "\n",
       "    .dataframe tbody tr th {\n",
       "        vertical-align: top;\n",
       "    }\n",
       "</style>\n",
       "<table border=\"1\" class=\"dataframe\">\n",
       "  <thead>\n",
       "    <tr style=\"text-align: right;\">\n",
       "      <th></th>\n",
       "      <th>medallion</th>\n",
       "      <th>hack_license</th>\n",
       "      <th>vendor_id</th>\n",
       "      <th>pickup_datetime</th>\n",
       "      <th>payment_type</th>\n",
       "      <th>fare_amount</th>\n",
       "      <th>surcharge</th>\n",
       "      <th>mta_tax</th>\n",
       "      <th>tip_amount</th>\n",
       "      <th>tolls_amount</th>\n",
       "      <th>total_amount</th>\n",
       "    </tr>\n",
       "  </thead>\n",
       "  <tbody>\n",
       "    <tr>\n",
       "      <th>0</th>\n",
       "      <td>922EFFD83A639FEB38CC41E0BB716DB5</td>\n",
       "      <td>51246985B396F628F62CAF5848F45F54</td>\n",
       "      <td>VTS</td>\n",
       "      <td>2013-06-06 08:22:00</td>\n",
       "      <td>CRD</td>\n",
       "      <td>22.0</td>\n",
       "      <td>0.0</td>\n",
       "      <td>0.5</td>\n",
       "      <td>3.5</td>\n",
       "      <td>0.0</td>\n",
       "      <td>26.0</td>\n",
       "    </tr>\n",
       "    <tr>\n",
       "      <th>1</th>\n",
       "      <td>084EBAFD06DB6B84F2584B9FA0CEEB82</td>\n",
       "      <td>E70BCB92622D925BA98757D2ECE46641</td>\n",
       "      <td>VTS</td>\n",
       "      <td>2013-06-06 12:29:00</td>\n",
       "      <td>CRD</td>\n",
       "      <td>22.0</td>\n",
       "      <td>0.0</td>\n",
       "      <td>0.5</td>\n",
       "      <td>3.5</td>\n",
       "      <td>0.0</td>\n",
       "      <td>26.0</td>\n",
       "    </tr>\n",
       "    <tr>\n",
       "      <th>2</th>\n",
       "      <td>7A01AD8BF11C9B969BBF4CFB5288AE40</td>\n",
       "      <td>612F60FCD2E3152FD1B49E39A6E1D03A</td>\n",
       "      <td>VTS</td>\n",
       "      <td>2013-06-06 13:07:00</td>\n",
       "      <td>CRD</td>\n",
       "      <td>22.0</td>\n",
       "      <td>0.0</td>\n",
       "      <td>0.5</td>\n",
       "      <td>3.5</td>\n",
       "      <td>0.0</td>\n",
       "      <td>26.0</td>\n",
       "    </tr>\n",
       "    <tr>\n",
       "      <th>3</th>\n",
       "      <td>8C69BE53D1B7A444055464D22DC952A5</td>\n",
       "      <td>12970308B4C57B79A63DDC591E2BE810</td>\n",
       "      <td>VTS</td>\n",
       "      <td>2013-06-06 12:22:00</td>\n",
       "      <td>CRD</td>\n",
       "      <td>22.0</td>\n",
       "      <td>0.0</td>\n",
       "      <td>0.5</td>\n",
       "      <td>3.5</td>\n",
       "      <td>0.0</td>\n",
       "      <td>26.0</td>\n",
       "    </tr>\n",
       "    <tr>\n",
       "      <th>4</th>\n",
       "      <td>0F8F0EE14AA33E24EE9286E29A0C32FE</td>\n",
       "      <td>76000A30938041F073F887F2BE5F4B8F</td>\n",
       "      <td>VTS</td>\n",
       "      <td>2013-06-06 11:44:00</td>\n",
       "      <td>CRD</td>\n",
       "      <td>22.0</td>\n",
       "      <td>0.0</td>\n",
       "      <td>0.5</td>\n",
       "      <td>3.5</td>\n",
       "      <td>0.0</td>\n",
       "      <td>26.0</td>\n",
       "    </tr>\n",
       "  </tbody>\n",
       "</table>\n",
       "</div>"
      ],
      "text/plain": [
       "                          medallion                      hack_license  \\\n",
       "0  922EFFD83A639FEB38CC41E0BB716DB5  51246985B396F628F62CAF5848F45F54   \n",
       "1  084EBAFD06DB6B84F2584B9FA0CEEB82  E70BCB92622D925BA98757D2ECE46641   \n",
       "2  7A01AD8BF11C9B969BBF4CFB5288AE40  612F60FCD2E3152FD1B49E39A6E1D03A   \n",
       "3  8C69BE53D1B7A444055464D22DC952A5  12970308B4C57B79A63DDC591E2BE810   \n",
       "4  0F8F0EE14AA33E24EE9286E29A0C32FE  76000A30938041F073F887F2BE5F4B8F   \n",
       "\n",
       "  vendor_id      pickup_datetime payment_type  fare_amount  surcharge  \\\n",
       "0       VTS  2013-06-06 08:22:00          CRD         22.0        0.0   \n",
       "1       VTS  2013-06-06 12:29:00          CRD         22.0        0.0   \n",
       "2       VTS  2013-06-06 13:07:00          CRD         22.0        0.0   \n",
       "3       VTS  2013-06-06 12:22:00          CRD         22.0        0.0   \n",
       "4       VTS  2013-06-06 11:44:00          CRD         22.0        0.0   \n",
       "\n",
       "   mta_tax  tip_amount  tolls_amount  total_amount  \n",
       "0      0.5         3.5           0.0          26.0  \n",
       "1      0.5         3.5           0.0          26.0  \n",
       "2      0.5         3.5           0.0          26.0  \n",
       "3      0.5         3.5           0.0          26.0  \n",
       "4      0.5         3.5           0.0          26.0  "
      ]
     },
     "execution_count": 2,
     "metadata": {},
     "output_type": "execute_result"
    }
   ],
   "source": [
    "# reading in data for trip fare June 2013\n",
    "tripfare6 = pd.read_csv('tripfareJune.csv')\n",
    "tripfare6.head()"
   ]
  },
  {
   "cell_type": "code",
   "execution_count": 3,
   "metadata": {},
   "outputs": [
    {
     "data": {
      "text/plain": [
       "(10000, 11)"
      ]
     },
     "execution_count": 3,
     "metadata": {},
     "output_type": "execute_result"
    }
   ],
   "source": [
    "tripfare6.shape"
   ]
  },
  {
   "cell_type": "code",
   "execution_count": 4,
   "metadata": {},
   "outputs": [
    {
     "name": "stdout",
     "output_type": "stream",
     "text": [
      "characteristics of the tips amount ($) distribution\n"
     ]
    },
    {
     "data": {
      "text/plain": [
       "count    10000.000000\n",
       "mean         5.607911\n",
       "std          4.112583\n",
       "min          0.010000\n",
       "25%          3.500000\n",
       "50%          5.380000\n",
       "75%          7.200000\n",
       "max        117.500000\n",
       "Name: tip_amount, dtype: float64"
      ]
     },
     "execution_count": 4,
     "metadata": {},
     "output_type": "execute_result"
    }
   ],
   "source": [
    "# learning the data\n",
    "print(\"characteristics of the tips amount ($) distribution\")\n",
    "tripfare6[\"tip_amount\"].describe()"
   ]
  },
  {
   "cell_type": "markdown",
   "metadata": {},
   "source": [
    "### ** It seems that the data do not include 0.0 dollars tips. Also, the maximum tip seems to be too large and could be not valid >>\n",
    "## AD statistical test to assess if the tip amount follows a Gaussian distribution, in order to define a threshold:"
   ]
  },
  {
   "cell_type": "code",
   "execution_count": 5,
   "metadata": {
    "collapsed": true
   },
   "outputs": [],
   "source": [
    "# statistical significance threshold\n",
    "alpha = 0.05"
   ]
  },
  {
   "cell_type": "code",
   "execution_count": 6,
   "metadata": {},
   "outputs": [
    {
     "name": "stdout",
     "output_type": "stream",
     "text": [
      "The distribution of tips does not follow a normal distribution (p < 0.05) according to the AD test\n"
     ]
    }
   ],
   "source": [
    "adTips = sp.stats.anderson((tripfare6.tip_amount - \n",
    "                tripfare6.tip_amount.mean())  / \n",
    "                    tripfare6.tip_amount.std(), \"norm\")\n",
    "verb = \"does not \" if adTips[0] > adTips[1][adTips[2] == alpha * 100] else \"does \"\n",
    "print (\"The distribution of tips \" + verb + \"follow a normal distribution (p < 0.05) \" + \n",
    "      \"according to the AD test\")"
   ]
  },
  {
   "cell_type": "markdown",
   "metadata": {},
   "source": [
    "### As the data does not follow Gaussian distribution, I will set the upper threshold as a 50% tip from fare amount. "
   ]
  },
  {
   "cell_type": "code",
   "execution_count": 7,
   "metadata": {
    "collapsed": true
   },
   "outputs": [],
   "source": [
    "# calculating average tip as a proportion of ride cost\n",
    "tripfare6['tippercent'] = tripfare6['tip_amount'] / tripfare6['fare_amount'] "
   ]
  },
  {
   "cell_type": "markdown",
   "metadata": {},
   "source": [
    "## Further learning of the tip percent distribution"
   ]
  },
  {
   "cell_type": "code",
   "execution_count": 8,
   "metadata": {},
   "outputs": [
    {
     "name": "stdout",
     "output_type": "stream",
     "text": [
      "characteristics of the tips amount ($) distribution\n"
     ]
    },
    {
     "data": {
      "text/plain": [
       "count    10000.000000\n",
       "mean         0.232780\n",
       "std          0.717081\n",
       "min          0.000100\n",
       "25%          0.200000\n",
       "50%          0.200000\n",
       "75%          0.250000\n",
       "max         47.000000\n",
       "Name: tippercent, dtype: float64"
      ]
     },
     "execution_count": 8,
     "metadata": {},
     "output_type": "execute_result"
    }
   ],
   "source": [
    "print(\"characteristics of the tips amount ($) distribution\")\n",
    "tripfare6[\"tippercent\"].describe()"
   ]
  },
  {
   "cell_type": "code",
   "execution_count": 9,
   "metadata": {
    "scrolled": true
   },
   "outputs": [
    {
     "data": {
      "image/png": "[encoded data removed]",
      "text/plain": [
       "<matplotlib.figure.Figure at 0x117292550>"
      ]
     },
     "metadata": {},
     "output_type": "display_data"
    }
   ],
   "source": [
    "fig = pl.figure(figsize(12,5))\n",
    "\n",
    "ax = tripfare6['tippercent'].plot(kind=\"hist\", alpha=0.7)\n",
    "\n",
    "ax.spines['right'].set_visible(False)\n",
    "ax.spines['left'].set_visible(False)\n",
    "\n",
    "ax.set_xlabel(\"tip percentage\", fontsize=15)\n",
    "ax.set_ylabel(\"Frequency\", fontsize=15)\n",
    "plt.grid(linewidth=0.5, axis='y', linestyle='-.')"
   ]
  },
  {
   "cell_type": "markdown",
   "metadata": {},
   "source": [
    "### Fig.1\n",
    "Histogram of the distribution of tips as percentage of fare for all yellowcab rides in June 2013, NYC. The distribution is dominated by very low percentage tips, and it stretches to 4700%."
   ]
  },
  {
   "cell_type": "code",
   "execution_count": 10,
   "metadata": {},
   "outputs": [
    {
     "data": {
      "image/png": "[encoded data removed]",
      "text/plain": [
       "<matplotlib.figure.Figure at 0x117292828>"
      ]
     },
     "metadata": {},
     "output_type": "display_data"
    }
   ],
   "source": [
    "# assuming a reasinable tip to be up to 50% of fare amount\n",
    "fig = pl.figure(figsize(12,5))\n",
    "\n",
    "ax = tripfare6[tripfare6['tippercent'] <= 0.5]['tippercent'].plot(kind=\"hist\", alpha=0.7)\n",
    "\n",
    "ax.spines['right'].set_visible(False)\n",
    "ax.spines['left'].set_visible(False)\n",
    "\n",
    "ax.set_xlabel(\"tip percentage\", fontsize=15)\n",
    "ax.set_ylabel(\"Frequency\", fontsize=15)\n",
    "plt.grid(linewidth=0.5, axis='y', linestyle='-.')"
   ]
  },
  {
   "cell_type": "markdown",
   "metadata": {},
   "source": [
    "### Fig.2\n",
    "Histogram of the distribution of tips as percentage of fare for the subset of data from Figure 1 where the tip is less than 50% of the fare. The distribution is now bellshaped, with mean value near the standard 21% tip with a standard deviation of ~5.5%"
   ]
  },
  {
   "cell_type": "code",
   "execution_count": 11,
   "metadata": {
    "scrolled": true
   },
   "outputs": [
    {
     "data": {
      "text/plain": [
       "mean    0.208662\n",
       "std     0.054624\n",
       "Name: tippercent, dtype: float64"
      ]
     },
     "execution_count": 11,
     "metadata": {},
     "output_type": "execute_result"
    }
   ],
   "source": [
    "tripfare6[tripfare6['tippercent'] <= 0.5]['tippercent'].describe()[1:3]"
   ]
  },
  {
   "cell_type": "code",
   "execution_count": 12,
   "metadata": {
    "scrolled": true
   },
   "outputs": [
    {
     "data": {
      "image/png": "[encoded data removed]",
      "text/plain": [
       "<matplotlib.figure.Figure at 0x1172929b0>"
      ]
     },
     "metadata": {},
     "output_type": "display_data"
    }
   ],
   "source": [
    "fig = pl.figure(figsize(12,5))\n",
    "\n",
    "ax = tripfare6[tripfare6['tippercent'] <= 0.5]['tippercent'].plot(kind=\"hist\",\n",
    "                                            bins=np.arange(-0.05, 0.55, 0.01), alpha=0.7)\n",
    "\n",
    "ax.spines['right'].set_visible(False)\n",
    "ax.spines['left'].set_visible(False)\n",
    "\n",
    "ax.set_xlabel(\"tip percentage\", fontsize=15)\n",
    "ax.set_ylabel(\"Frequency\", fontsize=15)\n",
    "plt.grid(linewidth=0.5, axis='y', linestyle='-.')"
   ]
  },
  {
   "cell_type": "markdown",
   "metadata": {},
   "source": [
    "### Fig.3\n",
    "As Figure 2, but plotted with smaller bins of size 0.01%. The new binning reveals a sharp peak at 20% of the trip fare, as well as smaller picks at 25% and 30%: these are easily explained by automated tipping percentage options on credit card machines, as well as standard tipping costumes."
   ]
  },
  {
   "cell_type": "markdown",
   "metadata": {},
   "source": [
    "## Removing observations outside the threshold of 50% tip"
   ]
  },
  {
   "cell_type": "code",
   "execution_count": 13,
   "metadata": {},
   "outputs": [
    {
     "data": {
      "text/plain": [
       "(9924, 12)"
      ]
     },
     "execution_count": 13,
     "metadata": {},
     "output_type": "execute_result"
    }
   ],
   "source": [
    "# remove outliers from data\n",
    "tripfare6 = tripfare6[tripfare6['tippercent'] <= 0.5]\n",
    "tripfare6.shape"
   ]
  },
  {
   "cell_type": "markdown",
   "metadata": {},
   "source": [
    "### 9924 observations were found valid for this analysis."
   ]
  },
  {
   "cell_type": "markdown",
   "metadata": {},
   "source": [
    "## Average tip amount (US dollars)"
   ]
  },
  {
   "cell_type": "code",
   "execution_count": 14,
   "metadata": {},
   "outputs": [
    {
     "name": "stdout",
     "output_type": "stream",
     "text": [
      "The average tip amount in June 2013 in US dollars, for all valid observations, is 5.532$, with standard deviation of 3.609\n"
     ]
    }
   ],
   "source": [
    "# Average tip amount (US dollars)\n",
    "print(\"The average tip amount in June 2013 in US dollars, for all valid observations, is {:.3f}$, with standard deviation of {:.3f}\"\n",
    "      .format(tripfare6['tip_amount'].mean(), tripfare6['tip_amount'].std()))"
   ]
  },
  {
   "cell_type": "markdown",
   "metadata": {},
   "source": [
    "## Average tip amount (proportion of ride cost)"
   ]
  },
  {
   "cell_type": "code",
   "execution_count": 15,
   "metadata": {
    "scrolled": true
   },
   "outputs": [
    {
     "name": "stdout",
     "output_type": "stream",
     "text": [
      "The average tip amount in June 2013 as proportion of ride cost, for all valid observations, is 0.209, with standard deviation of 0.055\n"
     ]
    }
   ],
   "source": [
    "print(\"The average tip amount in June 2013 as proportion of ride cost, for all valid observations, is {:.3f}, with standard deviation of {:.3f}\"\n",
    "      .format(tripfare6['tippercent'].mean(), tripfare6['tippercent'].std()))"
   ]
  },
  {
   "cell_type": "markdown",
   "metadata": {},
   "source": [
    "# 2.\tWhich driver (identified by hack license) had the largest change in tip amount from the first 5 months of 2013 to June 2013?\n",
    "\n",
    "For this task I query for the rides of Jan-May 2013, a subset of 10000 observations. SQL query:\n",
    "```\n",
    "SELECT * FROM [imjasonh-storage:nyctaxi.trip_fare] \n",
    "where pickup_datetime between '2013-01-01' and '2013-05-31 23:59:59'\n",
    "LIMIT 10000\n",
    "```\n",
    "\n",
    "** Calculating the change of _mean tip amount_ (US dollars) between the first five months of 2013 and June 2013."
   ]
  },
  {
   "cell_type": "code",
   "execution_count": 16,
   "metadata": {},
   "outputs": [
    {
     "data": {
      "text/html": [
       "<div>\n",
       "<style>\n",
       "    .dataframe thead tr:only-child th {\n",
       "        text-align: right;\n",
       "    }\n",
       "\n",
       "    .dataframe thead th {\n",
       "        text-align: left;\n",
       "    }\n",
       "\n",
       "    .dataframe tbody tr th {\n",
       "        vertical-align: top;\n",
       "    }\n",
       "</style>\n",
       "<table border=\"1\" class=\"dataframe\">\n",
       "  <thead>\n",
       "    <tr style=\"text-align: right;\">\n",
       "      <th></th>\n",
       "      <th>medallion</th>\n",
       "      <th>hack_license</th>\n",
       "      <th>vendor_id</th>\n",
       "      <th>pickup_datetime</th>\n",
       "      <th>payment_type</th>\n",
       "      <th>fare_amount</th>\n",
       "      <th>surcharge</th>\n",
       "      <th>mta_tax</th>\n",
       "      <th>tip_amount</th>\n",
       "      <th>tolls_amount</th>\n",
       "      <th>total_amount</th>\n",
       "    </tr>\n",
       "  </thead>\n",
       "  <tbody>\n",
       "    <tr>\n",
       "      <th>0</th>\n",
       "      <td>F336B7BA8506D6FA12FF8F266282EFD0</td>\n",
       "      <td>B9D3C8A665791430FBD78D7E87D6BB0C</td>\n",
       "      <td>VTS</td>\n",
       "      <td>2013-04-01 07:37:00</td>\n",
       "      <td>CRD</td>\n",
       "      <td>22.0</td>\n",
       "      <td>0.0</td>\n",
       "      <td>0.5</td>\n",
       "      <td>0.5</td>\n",
       "      <td>0.0</td>\n",
       "      <td>23.0</td>\n",
       "    </tr>\n",
       "    <tr>\n",
       "      <th>1</th>\n",
       "      <td>9D77B00127FA52A93E9CEA212DA158F9</td>\n",
       "      <td>8A23C66F21891C19A495AA19302AD788</td>\n",
       "      <td>VTS</td>\n",
       "      <td>2013-04-01 10:06:00</td>\n",
       "      <td>CRD</td>\n",
       "      <td>22.0</td>\n",
       "      <td>0.0</td>\n",
       "      <td>0.5</td>\n",
       "      <td>0.5</td>\n",
       "      <td>0.0</td>\n",
       "      <td>23.0</td>\n",
       "    </tr>\n",
       "    <tr>\n",
       "      <th>2</th>\n",
       "      <td>11420286E3AE843E8B91698FE87DB5C6</td>\n",
       "      <td>8929339F121F1DDC3A83204B5123DD9F</td>\n",
       "      <td>VTS</td>\n",
       "      <td>2013-04-01 19:13:00</td>\n",
       "      <td>CRD</td>\n",
       "      <td>22.0</td>\n",
       "      <td>1.0</td>\n",
       "      <td>0.5</td>\n",
       "      <td>0.5</td>\n",
       "      <td>0.0</td>\n",
       "      <td>24.0</td>\n",
       "    </tr>\n",
       "  </tbody>\n",
       "</table>\n",
       "</div>"
      ],
      "text/plain": [
       "                          medallion                      hack_license  \\\n",
       "0  F336B7BA8506D6FA12FF8F266282EFD0  B9D3C8A665791430FBD78D7E87D6BB0C   \n",
       "1  9D77B00127FA52A93E9CEA212DA158F9  8A23C66F21891C19A495AA19302AD788   \n",
       "2  11420286E3AE843E8B91698FE87DB5C6  8929339F121F1DDC3A83204B5123DD9F   \n",
       "\n",
       "  vendor_id      pickup_datetime payment_type  fare_amount  surcharge  \\\n",
       "0       VTS  2013-04-01 07:37:00          CRD         22.0        0.0   \n",
       "1       VTS  2013-04-01 10:06:00          CRD         22.0        0.0   \n",
       "2       VTS  2013-04-01 19:13:00          CRD         22.0        1.0   \n",
       "\n",
       "   mta_tax  tip_amount  tolls_amount  total_amount  \n",
       "0      0.5         0.5           0.0          23.0  \n",
       "1      0.5         0.5           0.0          23.0  \n",
       "2      0.5         0.5           0.0          24.0  "
      ]
     },
     "execution_count": 16,
     "metadata": {},
     "output_type": "execute_result"
    }
   ],
   "source": [
    "# reading in data for trip fare Jan-May 2013\n",
    "tripfare1 = pd.read_csv('fareJanMay.csv')\n",
    "tripfare1.head(3)"
   ]
  },
  {
   "cell_type": "code",
   "execution_count": 17,
   "metadata": {},
   "outputs": [
    {
     "data": {
      "text/plain": [
       "(10000, 11)"
      ]
     },
     "execution_count": 17,
     "metadata": {},
     "output_type": "execute_result"
    }
   ],
   "source": [
    "tripfare1.shape"
   ]
  },
  {
   "cell_type": "code",
   "execution_count": 18,
   "metadata": {},
   "outputs": [
    {
     "data": {
      "text/plain": [
       "count    10000.000000\n",
       "mean         6.437296\n",
       "std          3.427592\n",
       "min          0.010000\n",
       "25%          4.800000\n",
       "50%          5.700000\n",
       "75%          7.050000\n",
       "max         92.500000\n",
       "Name: tip_amount, dtype: float64"
      ]
     },
     "execution_count": 18,
     "metadata": {},
     "output_type": "execute_result"
    }
   ],
   "source": [
    "# learning the data\n",
    "tripfare1['tip_amount'].describe()"
   ]
  },
  {
   "cell_type": "markdown",
   "metadata": {},
   "source": [
    "### ** _As in task 1:_ It seems that Jan-May data do not include 0.0 dollars tips. Also, the maximum tip seems to be too large and could be not valid; a threshold of 50% tip from fare amount will be assumed.¶"
   ]
  },
  {
   "cell_type": "code",
   "execution_count": 19,
   "metadata": {
    "collapsed": true
   },
   "outputs": [],
   "source": [
    "# calculating average tip as a proportion of ride cost\n",
    "tripfare1['tippercent'] = tripfare1['tip_amount'] / tripfare1['fare_amount'] "
   ]
  },
  {
   "cell_type": "code",
   "execution_count": 20,
   "metadata": {},
   "outputs": [
    {
     "data": {
      "text/plain": [
       "(9918, 12)"
      ]
     },
     "execution_count": 20,
     "metadata": {},
     "output_type": "execute_result"
    }
   ],
   "source": [
    "# remove outliers from data\n",
    "tripfare1 = tripfare1[tripfare1['tippercent'] <= 0.5]\n",
    "tripfare1.shape"
   ]
  },
  {
   "cell_type": "markdown",
   "metadata": {},
   "source": [
    "### ** 9918 observations were found valid for this task."
   ]
  },
  {
   "cell_type": "code",
   "execution_count": 21,
   "metadata": {
    "scrolled": true
   },
   "outputs": [
    {
     "data": {
      "text/html": [
       "<div>\n",
       "<style>\n",
       "    .dataframe thead tr:only-child th {\n",
       "        text-align: right;\n",
       "    }\n",
       "\n",
       "    .dataframe thead th {\n",
       "        text-align: left;\n",
       "    }\n",
       "\n",
       "    .dataframe tbody tr th {\n",
       "        vertical-align: top;\n",
       "    }\n",
       "</style>\n",
       "<table border=\"1\" class=\"dataframe\">\n",
       "  <thead>\n",
       "    <tr style=\"text-align: right;\">\n",
       "      <th></th>\n",
       "      <th>driver</th>\n",
       "      <th>tip1-5</th>\n",
       "    </tr>\n",
       "  </thead>\n",
       "  <tbody>\n",
       "    <tr>\n",
       "      <th>0</th>\n",
       "      <td>001C8AAB90AEE49F36FCAA7B4136C81A</td>\n",
       "      <td>6.75</td>\n",
       "    </tr>\n",
       "    <tr>\n",
       "      <th>1</th>\n",
       "      <td>0025133AD810DBE80D35FCA8BF0BCA1F</td>\n",
       "      <td>6.50</td>\n",
       "    </tr>\n",
       "    <tr>\n",
       "      <th>2</th>\n",
       "      <td>002C093A2CB9FD40C8C54AB5D158FC47</td>\n",
       "      <td>4.50</td>\n",
       "    </tr>\n",
       "  </tbody>\n",
       "</table>\n",
       "</div>"
      ],
      "text/plain": [
       "                             driver  tip1-5\n",
       "0  001C8AAB90AEE49F36FCAA7B4136C81A    6.75\n",
       "1  0025133AD810DBE80D35FCA8BF0BCA1F    6.50\n",
       "2  002C093A2CB9FD40C8C54AB5D158FC47    4.50"
      ]
     },
     "execution_count": 21,
     "metadata": {},
     "output_type": "execute_result"
    }
   ],
   "source": [
    "# creating df for grouped by drivers (identified by hack license) and tip amount\n",
    "drivertip1 = pd.DataFrame(tripfare1.tip_amount.groupby([tripfare1.hack_license]).mean())\n",
    "#drivertip1 = drivertip1.drop(['tippercent'], axis=1)\n",
    "drivertip1 = drivertip1.reset_index()\n",
    "drivertip1.columns = ['driver', 'tip1-5']\n",
    "drivertip1.head(3)"
   ]
  },
  {
   "cell_type": "code",
   "execution_count": 22,
   "metadata": {
    "scrolled": true
   },
   "outputs": [
    {
     "data": {
      "text/html": [
       "<div>\n",
       "<style>\n",
       "    .dataframe thead tr:only-child th {\n",
       "        text-align: right;\n",
       "    }\n",
       "\n",
       "    .dataframe thead th {\n",
       "        text-align: left;\n",
       "    }\n",
       "\n",
       "    .dataframe tbody tr th {\n",
       "        vertical-align: top;\n",
       "    }\n",
       "</style>\n",
       "<table border=\"1\" class=\"dataframe\">\n",
       "  <thead>\n",
       "    <tr style=\"text-align: right;\">\n",
       "      <th></th>\n",
       "      <th>driver</th>\n",
       "      <th>tip6</th>\n",
       "    </tr>\n",
       "  </thead>\n",
       "  <tbody>\n",
       "    <tr>\n",
       "      <th>0</th>\n",
       "      <td>00184958F5D5FD0A9EC0B115C5B55796</td>\n",
       "      <td>6.2</td>\n",
       "    </tr>\n",
       "    <tr>\n",
       "      <th>1</th>\n",
       "      <td>001C8AAB90AEE49F36FCAA7B4136C81A</td>\n",
       "      <td>7.3</td>\n",
       "    </tr>\n",
       "    <tr>\n",
       "      <th>2</th>\n",
       "      <td>002C093A2CB9FD40C8C54AB5D158FC47</td>\n",
       "      <td>4.6</td>\n",
       "    </tr>\n",
       "  </tbody>\n",
       "</table>\n",
       "</div>"
      ],
      "text/plain": [
       "                             driver  tip6\n",
       "0  00184958F5D5FD0A9EC0B115C5B55796   6.2\n",
       "1  001C8AAB90AEE49F36FCAA7B4136C81A   7.3\n",
       "2  002C093A2CB9FD40C8C54AB5D158FC47   4.6"
      ]
     },
     "execution_count": 22,
     "metadata": {},
     "output_type": "execute_result"
    }
   ],
   "source": [
    "drivertip6 = pd.DataFrame(tripfare6.tip_amount.groupby([tripfare6.hack_license]).mean())\n",
    "drivertip6 = drivertip6.reset_index()\n",
    "drivertip6.columns = ['driver', 'tip6']\n",
    "drivertip6.head(3)"
   ]
  },
  {
   "cell_type": "code",
   "execution_count": 23,
   "metadata": {},
   "outputs": [
    {
     "data": {
      "text/plain": [
       "(2562, 3)"
      ]
     },
     "execution_count": 23,
     "metadata": {},
     "output_type": "execute_result"
    }
   ],
   "source": [
    "# merging two dataframes \n",
    "drivertipAll = drivertip1.merge(drivertip6, on = 'driver')\n",
    "drivertipAll.shape"
   ]
  },
  {
   "cell_type": "markdown",
   "metadata": {},
   "source": [
    "### ** 2562 drivers were found in both datasets"
   ]
  },
  {
   "cell_type": "code",
   "execution_count": 24,
   "metadata": {
    "scrolled": true
   },
   "outputs": [
    {
     "data": {
      "text/html": [
       "<div>\n",
       "<style>\n",
       "    .dataframe thead tr:only-child th {\n",
       "        text-align: right;\n",
       "    }\n",
       "\n",
       "    .dataframe thead th {\n",
       "        text-align: left;\n",
       "    }\n",
       "\n",
       "    .dataframe tbody tr th {\n",
       "        vertical-align: top;\n",
       "    }\n",
       "</style>\n",
       "<table border=\"1\" class=\"dataframe\">\n",
       "  <thead>\n",
       "    <tr style=\"text-align: right;\">\n",
       "      <th></th>\n",
       "      <th>driver</th>\n",
       "      <th>tip1-5</th>\n",
       "      <th>tip6</th>\n",
       "    </tr>\n",
       "  </thead>\n",
       "  <tbody>\n",
       "    <tr>\n",
       "      <th>0</th>\n",
       "      <td>001C8AAB90AEE49F36FCAA7B4136C81A</td>\n",
       "      <td>6.75</td>\n",
       "      <td>7.300000</td>\n",
       "    </tr>\n",
       "    <tr>\n",
       "      <th>1</th>\n",
       "      <td>002C093A2CB9FD40C8C54AB5D158FC47</td>\n",
       "      <td>4.50</td>\n",
       "      <td>4.600000</td>\n",
       "    </tr>\n",
       "    <tr>\n",
       "      <th>2</th>\n",
       "      <td>0046F1E91AA13DEDE4F6EE775C6293AB</td>\n",
       "      <td>4.00</td>\n",
       "      <td>5.783333</td>\n",
       "    </tr>\n",
       "    <tr>\n",
       "      <th>3</th>\n",
       "      <td>007357E7FFE212879B9B85C7F4681AE5</td>\n",
       "      <td>4.85</td>\n",
       "      <td>4.300000</td>\n",
       "    </tr>\n",
       "    <tr>\n",
       "      <th>4</th>\n",
       "      <td>007E686365B4421FB22F8F2FAF21FBC1</td>\n",
       "      <td>5.00</td>\n",
       "      <td>5.600000</td>\n",
       "    </tr>\n",
       "  </tbody>\n",
       "</table>\n",
       "</div>"
      ],
      "text/plain": [
       "                             driver  tip1-5      tip6\n",
       "0  001C8AAB90AEE49F36FCAA7B4136C81A    6.75  7.300000\n",
       "1  002C093A2CB9FD40C8C54AB5D158FC47    4.50  4.600000\n",
       "2  0046F1E91AA13DEDE4F6EE775C6293AB    4.00  5.783333\n",
       "3  007357E7FFE212879B9B85C7F4681AE5    4.85  4.300000\n",
       "4  007E686365B4421FB22F8F2FAF21FBC1    5.00  5.600000"
      ]
     },
     "execution_count": 24,
     "metadata": {},
     "output_type": "execute_result"
    }
   ],
   "source": [
    "drivertipAll.head()"
   ]
  },
  {
   "cell_type": "code",
   "execution_count": 25,
   "metadata": {},
   "outputs": [
    {
     "data": {
      "text/html": [
       "<div>\n",
       "<style>\n",
       "    .dataframe thead tr:only-child th {\n",
       "        text-align: right;\n",
       "    }\n",
       "\n",
       "    .dataframe thead th {\n",
       "        text-align: left;\n",
       "    }\n",
       "\n",
       "    .dataframe tbody tr th {\n",
       "        vertical-align: top;\n",
       "    }\n",
       "</style>\n",
       "<table border=\"1\" class=\"dataframe\">\n",
       "  <thead>\n",
       "    <tr style=\"text-align: right;\">\n",
       "      <th></th>\n",
       "      <th>driver</th>\n",
       "      <th>tip1-5</th>\n",
       "      <th>tip6</th>\n",
       "      <th>tipchange</th>\n",
       "    </tr>\n",
       "  </thead>\n",
       "  <tbody>\n",
       "    <tr>\n",
       "      <th>0</th>\n",
       "      <td>001C8AAB90AEE49F36FCAA7B4136C81A</td>\n",
       "      <td>6.75</td>\n",
       "      <td>7.300000</td>\n",
       "      <td>0.550000</td>\n",
       "    </tr>\n",
       "    <tr>\n",
       "      <th>1</th>\n",
       "      <td>002C093A2CB9FD40C8C54AB5D158FC47</td>\n",
       "      <td>4.50</td>\n",
       "      <td>4.600000</td>\n",
       "      <td>0.100000</td>\n",
       "    </tr>\n",
       "    <tr>\n",
       "      <th>2</th>\n",
       "      <td>0046F1E91AA13DEDE4F6EE775C6293AB</td>\n",
       "      <td>4.00</td>\n",
       "      <td>5.783333</td>\n",
       "      <td>1.783333</td>\n",
       "    </tr>\n",
       "    <tr>\n",
       "      <th>3</th>\n",
       "      <td>007357E7FFE212879B9B85C7F4681AE5</td>\n",
       "      <td>4.85</td>\n",
       "      <td>4.300000</td>\n",
       "      <td>-0.550000</td>\n",
       "    </tr>\n",
       "    <tr>\n",
       "      <th>4</th>\n",
       "      <td>007E686365B4421FB22F8F2FAF21FBC1</td>\n",
       "      <td>5.00</td>\n",
       "      <td>5.600000</td>\n",
       "      <td>0.600000</td>\n",
       "    </tr>\n",
       "  </tbody>\n",
       "</table>\n",
       "</div>"
      ],
      "text/plain": [
       "                             driver  tip1-5      tip6  tipchange\n",
       "0  001C8AAB90AEE49F36FCAA7B4136C81A    6.75  7.300000   0.550000\n",
       "1  002C093A2CB9FD40C8C54AB5D158FC47    4.50  4.600000   0.100000\n",
       "2  0046F1E91AA13DEDE4F6EE775C6293AB    4.00  5.783333   1.783333\n",
       "3  007357E7FFE212879B9B85C7F4681AE5    4.85  4.300000  -0.550000\n",
       "4  007E686365B4421FB22F8F2FAF21FBC1    5.00  5.600000   0.600000"
      ]
     },
     "execution_count": 25,
     "metadata": {},
     "output_type": "execute_result"
    }
   ],
   "source": [
    "# calculating tip amount (mean) change\n",
    "drivertipAll['tipchange'] = drivertipAll['tip6'] - drivertipAll['tip1-5']\n",
    "drivertipAll.head()"
   ]
  },
  {
   "cell_type": "code",
   "execution_count": 26,
   "metadata": {},
   "outputs": [
    {
     "data": {
      "text/plain": [
       "1017    25.000\n",
       "805     21.600\n",
       "1125    20.400\n",
       "354     19.825\n",
       "57      19.600\n",
       "398     18.375\n",
       "134     16.950\n",
       "823     16.000\n",
       "2472    15.900\n",
       "2243    15.600\n",
       "Name: tipchange, dtype: float64"
      ]
     },
     "execution_count": 26,
     "metadata": {},
     "output_type": "execute_result"
    }
   ],
   "source": [
    "# sorting 'tipchange' in order to find out the largest change in tip amount\n",
    "drivertipAll['tipchange'].abs().sort_values(ascending=False)[:10]"
   ]
  },
  {
   "cell_type": "code",
   "execution_count": 27,
   "metadata": {},
   "outputs": [
    {
     "data": {
      "text/plain": [
       "driver       668482008D457EACF21049DEB67C7A9B\n",
       "tip1-5                                      5\n",
       "tip6                                       30\n",
       "tipchange                                  25\n",
       "Name: 1017, dtype: object"
      ]
     },
     "execution_count": 27,
     "metadata": {},
     "output_type": "execute_result"
    }
   ],
   "source": [
    "# identifying the driver\n",
    "drivertipAll.loc[1017]"
   ]
  },
  {
   "cell_type": "markdown",
   "metadata": {},
   "source": [
    "## Answer: \n",
    "Driver **hack_license no. 668482008D457EACF21049DEB67C7A9B** had average tip amount of **5 US Dollars** in Jan-May 2013 and **30 US Dollars** in June, the highest change in tip amount from all drivers that were found in both periods of time. "
   ]
  },
  {
   "cell_type": "markdown",
   "metadata": {},
   "source": [
    "# 3.\tDoes distance traveled affect dollar tip amounts and/or tips as percent of ride cost?\n",
    "#### _Assessing colinearity of trip distance and tip amount / precent_\n",
    "Data of table _trip_data_ is only for months February (02/2013) and May (05/2013). Thus I query for the trip_data + trip_fare data of May 2013 only, a subset of 10000 observations. SQL query:\n",
    "```\n",
    "SELECT * FROM [imjasonh-storage:nyctaxi.trip_data] \n",
    "where pickup_datetime between '2013-05-01' and '2013-05-31 23:59:59'\n",
    "LIMIT 10000\n",
    "```\n",
    "and:\n",
    "```\n",
    "SELECT * FROM [imjasonh-storage:nyctaxi.trip_fare] \n",
    "where pickup_datetime between '2013-05-01' and '2013-05-31 23:59:59'\n",
    "LIMIT 10000\n",
    "```"
   ]
  },
  {
   "cell_type": "code",
   "execution_count": 28,
   "metadata": {},
   "outputs": [
    {
     "data": {
      "text/html": [
       "<div>\n",
       "<style>\n",
       "    .dataframe thead tr:only-child th {\n",
       "        text-align: right;\n",
       "    }\n",
       "\n",
       "    .dataframe thead th {\n",
       "        text-align: left;\n",
       "    }\n",
       "\n",
       "    .dataframe tbody tr th {\n",
       "        vertical-align: top;\n",
       "    }\n",
       "</style>\n",
       "<table border=\"1\" class=\"dataframe\">\n",
       "  <thead>\n",
       "    <tr style=\"text-align: right;\">\n",
       "      <th></th>\n",
       "      <th>medallion</th>\n",
       "      <th>hack_license</th>\n",
       "      <th>vendor_id</th>\n",
       "      <th>rate_code</th>\n",
       "      <th>store_and_fwd_flag</th>\n",
       "      <th>pickup_datetime</th>\n",
       "      <th>dropoff_datetime</th>\n",
       "      <th>passenger_count</th>\n",
       "      <th>trip_time_in_secs</th>\n",
       "      <th>trip_distance</th>\n",
       "      <th>pickup_longitude</th>\n",
       "      <th>pickup_latitude</th>\n",
       "      <th>dropoff_longitude</th>\n",
       "      <th>dropoff_latitude</th>\n",
       "    </tr>\n",
       "  </thead>\n",
       "  <tbody>\n",
       "    <tr>\n",
       "      <th>0</th>\n",
       "      <td>000318C2E3E6381580E5C99910A60668</td>\n",
       "      <td>4F463F528AF7914347A78753E4D2C379</td>\n",
       "      <td>VTS</td>\n",
       "      <td>1</td>\n",
       "      <td>NaN</td>\n",
       "      <td>2013-05-02 09:46:00</td>\n",
       "      <td>2013-05-02 09:58:00</td>\n",
       "      <td>6</td>\n",
       "      <td>720</td>\n",
       "      <td>1.42</td>\n",
       "      <td>-73.991974</td>\n",
       "      <td>40.744053</td>\n",
       "      <td>-73.980209</td>\n",
       "      <td>40.760834</td>\n",
       "    </tr>\n",
       "    <tr>\n",
       "      <th>1</th>\n",
       "      <td>000318C2E3E6381580E5C99910A60668</td>\n",
       "      <td>FA9844DF87F8CD641DB58BC2A0E466F8</td>\n",
       "      <td>VTS</td>\n",
       "      <td>1</td>\n",
       "      <td>NaN</td>\n",
       "      <td>2013-05-12 13:13:00</td>\n",
       "      <td>2013-05-12 13:19:00</td>\n",
       "      <td>4</td>\n",
       "      <td>360</td>\n",
       "      <td>1.26</td>\n",
       "      <td>-73.973801</td>\n",
       "      <td>40.792110</td>\n",
       "      <td>-73.984917</td>\n",
       "      <td>40.779270</td>\n",
       "    </tr>\n",
       "    <tr>\n",
       "      <th>2</th>\n",
       "      <td>000318C2E3E6381580E5C99910A60668</td>\n",
       "      <td>4F463F528AF7914347A78753E4D2C379</td>\n",
       "      <td>VTS</td>\n",
       "      <td>1</td>\n",
       "      <td>NaN</td>\n",
       "      <td>2013-05-03 16:24:00</td>\n",
       "      <td>2013-05-03 16:32:00</td>\n",
       "      <td>6</td>\n",
       "      <td>480</td>\n",
       "      <td>1.38</td>\n",
       "      <td>-73.951340</td>\n",
       "      <td>40.804722</td>\n",
       "      <td>-73.938263</td>\n",
       "      <td>40.818798</td>\n",
       "    </tr>\n",
       "    <tr>\n",
       "      <th>3</th>\n",
       "      <td>000318C2E3E6381580E5C99910A60668</td>\n",
       "      <td>D4B558D3E7A4ECAAB98FCC9DBFE9A1C6</td>\n",
       "      <td>VTS</td>\n",
       "      <td>1</td>\n",
       "      <td>NaN</td>\n",
       "      <td>2013-05-22 12:07:00</td>\n",
       "      <td>2013-05-22 12:12:00</td>\n",
       "      <td>4</td>\n",
       "      <td>300</td>\n",
       "      <td>0.66</td>\n",
       "      <td>-73.970657</td>\n",
       "      <td>40.755642</td>\n",
       "      <td>-73.965393</td>\n",
       "      <td>40.763103</td>\n",
       "    </tr>\n",
       "    <tr>\n",
       "      <th>4</th>\n",
       "      <td>000318C2E3E6381580E5C99910A60668</td>\n",
       "      <td>4F463F528AF7914347A78753E4D2C379</td>\n",
       "      <td>VTS</td>\n",
       "      <td>1</td>\n",
       "      <td>NaN</td>\n",
       "      <td>2013-05-09 11:38:00</td>\n",
       "      <td>2013-05-09 12:04:00</td>\n",
       "      <td>6</td>\n",
       "      <td>1560</td>\n",
       "      <td>2.11</td>\n",
       "      <td>-74.007858</td>\n",
       "      <td>40.703537</td>\n",
       "      <td>-73.987892</td>\n",
       "      <td>40.722717</td>\n",
       "    </tr>\n",
       "  </tbody>\n",
       "</table>\n",
       "</div>"
      ],
      "text/plain": [
       "                          medallion                      hack_license  \\\n",
       "0  000318C2E3E6381580E5C99910A60668  4F463F528AF7914347A78753E4D2C379   \n",
       "1  000318C2E3E6381580E5C99910A60668  FA9844DF87F8CD641DB58BC2A0E466F8   \n",
       "2  000318C2E3E6381580E5C99910A60668  4F463F528AF7914347A78753E4D2C379   \n",
       "3  000318C2E3E6381580E5C99910A60668  D4B558D3E7A4ECAAB98FCC9DBFE9A1C6   \n",
       "4  000318C2E3E6381580E5C99910A60668  4F463F528AF7914347A78753E4D2C379   \n",
       "\n",
       "  vendor_id  rate_code  store_and_fwd_flag      pickup_datetime  \\\n",
       "0       VTS          1                 NaN  2013-05-02 09:46:00   \n",
       "1       VTS          1                 NaN  2013-05-12 13:13:00   \n",
       "2       VTS          1                 NaN  2013-05-03 16:24:00   \n",
       "3       VTS          1                 NaN  2013-05-22 12:07:00   \n",
       "4       VTS          1                 NaN  2013-05-09 11:38:00   \n",
       "\n",
       "      dropoff_datetime  passenger_count  trip_time_in_secs  trip_distance  \\\n",
       "0  2013-05-02 09:58:00                6                720           1.42   \n",
       "1  2013-05-12 13:19:00                4                360           1.26   \n",
       "2  2013-05-03 16:32:00                6                480           1.38   \n",
       "3  2013-05-22 12:12:00                4                300           0.66   \n",
       "4  2013-05-09 12:04:00                6               1560           2.11   \n",
       "\n",
       "   pickup_longitude  pickup_latitude  dropoff_longitude  dropoff_latitude  \n",
       "0        -73.991974        40.744053         -73.980209         40.760834  \n",
       "1        -73.973801        40.792110         -73.984917         40.779270  \n",
       "2        -73.951340        40.804722         -73.938263         40.818798  \n",
       "3        -73.970657        40.755642         -73.965393         40.763103  \n",
       "4        -74.007858        40.703537         -73.987892         40.722717  "
      ]
     },
     "execution_count": 28,
     "metadata": {},
     "output_type": "execute_result"
    }
   ],
   "source": [
    "tripfare = pd.read_csv('fare5.csv')\n",
    "tripdata = pd.read_csv('data5.csv')\n",
    "tripdata.head()"
   ]
  },
  {
   "cell_type": "code",
   "execution_count": 29,
   "metadata": {
    "scrolled": true
   },
   "outputs": [
    {
     "data": {
      "text/plain": [
       "(10000, 11)"
      ]
     },
     "execution_count": 29,
     "metadata": {},
     "output_type": "execute_result"
    }
   ],
   "source": [
    "tripfare.shape"
   ]
  },
  {
   "cell_type": "code",
   "execution_count": 30,
   "metadata": {
    "scrolled": false
   },
   "outputs": [
    {
     "data": {
      "text/html": [
       "<div>\n",
       "<style>\n",
       "    .dataframe thead tr:only-child th {\n",
       "        text-align: right;\n",
       "    }\n",
       "\n",
       "    .dataframe thead th {\n",
       "        text-align: left;\n",
       "    }\n",
       "\n",
       "    .dataframe tbody tr th {\n",
       "        vertical-align: top;\n",
       "    }\n",
       "</style>\n",
       "<table border=\"1\" class=\"dataframe\">\n",
       "  <thead>\n",
       "    <tr style=\"text-align: right;\">\n",
       "      <th></th>\n",
       "      <th>medallion_x</th>\n",
       "      <th>hack_license_x</th>\n",
       "      <th>vendor_id_x</th>\n",
       "      <th>rate_code</th>\n",
       "      <th>store_and_fwd_flag</th>\n",
       "      <th>pickup_datetime</th>\n",
       "      <th>dropoff_datetime</th>\n",
       "      <th>passenger_count</th>\n",
       "      <th>trip_time_in_secs</th>\n",
       "      <th>trip_distance</th>\n",
       "      <th>...</th>\n",
       "      <th>medallion_y</th>\n",
       "      <th>hack_license_y</th>\n",
       "      <th>vendor_id_y</th>\n",
       "      <th>payment_type</th>\n",
       "      <th>fare_amount</th>\n",
       "      <th>surcharge</th>\n",
       "      <th>mta_tax</th>\n",
       "      <th>tip_amount</th>\n",
       "      <th>tolls_amount</th>\n",
       "      <th>total_amount</th>\n",
       "    </tr>\n",
       "  </thead>\n",
       "  <tbody>\n",
       "    <tr>\n",
       "      <th>0</th>\n",
       "      <td>000318C2E3E6381580E5C99910A60668</td>\n",
       "      <td>FA9844DF87F8CD641DB58BC2A0E466F8</td>\n",
       "      <td>VTS</td>\n",
       "      <td>1</td>\n",
       "      <td>NaN</td>\n",
       "      <td>2013-05-12 13:13:00</td>\n",
       "      <td>2013-05-12 13:19:00</td>\n",
       "      <td>4</td>\n",
       "      <td>360</td>\n",
       "      <td>1.26</td>\n",
       "      <td>...</td>\n",
       "      <td>16CAFC779BE8FB877073B98DC36926BC</td>\n",
       "      <td>CE6F6C0974F6E2B490EC87F118897FA5</td>\n",
       "      <td>VTS</td>\n",
       "      <td>CRD</td>\n",
       "      <td>4.0</td>\n",
       "      <td>0.0</td>\n",
       "      <td>0.5</td>\n",
       "      <td>2.0</td>\n",
       "      <td>0.0</td>\n",
       "      <td>6.5</td>\n",
       "    </tr>\n",
       "    <tr>\n",
       "      <th>1</th>\n",
       "      <td>000318C2E3E6381580E5C99910A60668</td>\n",
       "      <td>FA9844DF87F8CD641DB58BC2A0E466F8</td>\n",
       "      <td>VTS</td>\n",
       "      <td>1</td>\n",
       "      <td>NaN</td>\n",
       "      <td>2013-05-12 13:13:00</td>\n",
       "      <td>2013-05-12 13:19:00</td>\n",
       "      <td>4</td>\n",
       "      <td>360</td>\n",
       "      <td>1.26</td>\n",
       "      <td>...</td>\n",
       "      <td>012F172C0351A4767F60F6B6B2CF9E86</td>\n",
       "      <td>D64BE6233FA523225C683CCD44FF2750</td>\n",
       "      <td>VTS</td>\n",
       "      <td>CRD</td>\n",
       "      <td>5.0</td>\n",
       "      <td>0.0</td>\n",
       "      <td>0.5</td>\n",
       "      <td>1.5</td>\n",
       "      <td>0.0</td>\n",
       "      <td>7.0</td>\n",
       "    </tr>\n",
       "  </tbody>\n",
       "</table>\n",
       "<p>2 rows × 24 columns</p>\n",
       "</div>"
      ],
      "text/plain": [
       "                        medallion_x                    hack_license_x  \\\n",
       "0  000318C2E3E6381580E5C99910A60668  FA9844DF87F8CD641DB58BC2A0E466F8   \n",
       "1  000318C2E3E6381580E5C99910A60668  FA9844DF87F8CD641DB58BC2A0E466F8   \n",
       "\n",
       "  vendor_id_x  rate_code  store_and_fwd_flag      pickup_datetime  \\\n",
       "0         VTS          1                 NaN  2013-05-12 13:13:00   \n",
       "1         VTS          1                 NaN  2013-05-12 13:13:00   \n",
       "\n",
       "      dropoff_datetime  passenger_count  trip_time_in_secs  trip_distance  \\\n",
       "0  2013-05-12 13:19:00                4                360           1.26   \n",
       "1  2013-05-12 13:19:00                4                360           1.26   \n",
       "\n",
       "       ...                            medallion_y  \\\n",
       "0      ...       16CAFC779BE8FB877073B98DC36926BC   \n",
       "1      ...       012F172C0351A4767F60F6B6B2CF9E86   \n",
       "\n",
       "                     hack_license_y  vendor_id_y  payment_type fare_amount  \\\n",
       "0  CE6F6C0974F6E2B490EC87F118897FA5          VTS           CRD         4.0   \n",
       "1  D64BE6233FA523225C683CCD44FF2750          VTS           CRD         5.0   \n",
       "\n",
       "  surcharge mta_tax tip_amount  tolls_amount  total_amount  \n",
       "0       0.0     0.5        2.0           0.0           6.5  \n",
       "1       0.0     0.5        1.5           0.0           7.0  \n",
       "\n",
       "[2 rows x 24 columns]"
      ]
     },
     "execution_count": 30,
     "metadata": {},
     "output_type": "execute_result"
    }
   ],
   "source": [
    "trips = tripdata.merge(tripfare, on=['pickup_datetime'])\n",
    "trips.head(2)"
   ]
  },
  {
   "cell_type": "code",
   "execution_count": 31,
   "metadata": {
    "scrolled": true
   },
   "outputs": [
    {
     "data": {
      "text/plain": [
       "(2371, 24)"
      ]
     },
     "execution_count": 31,
     "metadata": {},
     "output_type": "execute_result"
    }
   ],
   "source": [
    "trips.shape"
   ]
  },
  {
   "cell_type": "markdown",
   "metadata": {},
   "source": [
    "### ** 2371 rides were validly merged and will be included in the analysis of this task."
   ]
  },
  {
   "cell_type": "code",
   "execution_count": 32,
   "metadata": {
    "scrolled": true
   },
   "outputs": [
    {
     "data": {
      "text/plain": [
       "count    2371.000000\n",
       "mean        1.147912\n",
       "std         1.024007\n",
       "min         0.000000\n",
       "25%         1.000000\n",
       "50%         1.000000\n",
       "75%         1.000000\n",
       "max        15.000000\n",
       "Name: tip_amount, dtype: float64"
      ]
     },
     "execution_count": 32,
     "metadata": {},
     "output_type": "execute_result"
    }
   ],
   "source": [
    "# learning the data\n",
    "trips['tip_amount'].describe()"
   ]
  },
  {
   "cell_type": "markdown",
   "metadata": {},
   "source": [
    "### ** The data include 0.0 dollars tips. The maximum tip is 15 dollars; I will set again a threshold of 50% tip from fare amount. Also, I will drop 0 dollars tips to better assess the correlation."
   ]
  },
  {
   "cell_type": "code",
   "execution_count": 33,
   "metadata": {},
   "outputs": [
    {
     "data": {
      "text/html": [
       "<div>\n",
       "<style>\n",
       "    .dataframe thead tr:only-child th {\n",
       "        text-align: right;\n",
       "    }\n",
       "\n",
       "    .dataframe thead th {\n",
       "        text-align: left;\n",
       "    }\n",
       "\n",
       "    .dataframe tbody tr th {\n",
       "        vertical-align: top;\n",
       "    }\n",
       "</style>\n",
       "<table border=\"1\" class=\"dataframe\">\n",
       "  <thead>\n",
       "    <tr style=\"text-align: right;\">\n",
       "      <th></th>\n",
       "      <th>hack_license_x</th>\n",
       "      <th>trip_distance</th>\n",
       "      <th>fare_amount</th>\n",
       "      <th>tip_amount</th>\n",
       "      <th>tippercent</th>\n",
       "    </tr>\n",
       "  </thead>\n",
       "  <tbody>\n",
       "    <tr>\n",
       "      <th>0</th>\n",
       "      <td>FA9844DF87F8CD641DB58BC2A0E466F8</td>\n",
       "      <td>1.26</td>\n",
       "      <td>4.0</td>\n",
       "      <td>2.0</td>\n",
       "      <td>50.0</td>\n",
       "    </tr>\n",
       "    <tr>\n",
       "      <th>1</th>\n",
       "      <td>FA9844DF87F8CD641DB58BC2A0E466F8</td>\n",
       "      <td>1.26</td>\n",
       "      <td>5.0</td>\n",
       "      <td>1.5</td>\n",
       "      <td>30.0</td>\n",
       "    </tr>\n",
       "    <tr>\n",
       "      <th>2</th>\n",
       "      <td>FA9844DF87F8CD641DB58BC2A0E466F8</td>\n",
       "      <td>1.26</td>\n",
       "      <td>5.0</td>\n",
       "      <td>0.0</td>\n",
       "      <td>0.0</td>\n",
       "    </tr>\n",
       "    <tr>\n",
       "      <th>3</th>\n",
       "      <td>FA9844DF87F8CD641DB58BC2A0E466F8</td>\n",
       "      <td>1.26</td>\n",
       "      <td>5.0</td>\n",
       "      <td>1.0</td>\n",
       "      <td>20.0</td>\n",
       "    </tr>\n",
       "    <tr>\n",
       "      <th>4</th>\n",
       "      <td>FA9844DF87F8CD641DB58BC2A0E466F8</td>\n",
       "      <td>1.26</td>\n",
       "      <td>5.0</td>\n",
       "      <td>1.0</td>\n",
       "      <td>20.0</td>\n",
       "    </tr>\n",
       "  </tbody>\n",
       "</table>\n",
       "</div>"
      ],
      "text/plain": [
       "                     hack_license_x  trip_distance  fare_amount  tip_amount  \\\n",
       "0  FA9844DF87F8CD641DB58BC2A0E466F8           1.26          4.0         2.0   \n",
       "1  FA9844DF87F8CD641DB58BC2A0E466F8           1.26          5.0         1.5   \n",
       "2  FA9844DF87F8CD641DB58BC2A0E466F8           1.26          5.0         0.0   \n",
       "3  FA9844DF87F8CD641DB58BC2A0E466F8           1.26          5.0         1.0   \n",
       "4  FA9844DF87F8CD641DB58BC2A0E466F8           1.26          5.0         1.0   \n",
       "\n",
       "   tippercent  \n",
       "0        50.0  \n",
       "1        30.0  \n",
       "2         0.0  \n",
       "3        20.0  \n",
       "4        20.0  "
      ]
     },
     "execution_count": 33,
     "metadata": {},
     "output_type": "execute_result"
    }
   ],
   "source": [
    "# calculating tip % + cleaning the dataset\n",
    "trips = trips[['hack_license_x', 'trip_distance', 'fare_amount', 'tip_amount']]\n",
    "trips['tippercent'] = trips['tip_amount'] / trips['fare_amount'] * 100\n",
    "trips.head()"
   ]
  },
  {
   "cell_type": "code",
   "execution_count": 34,
   "metadata": {},
   "outputs": [
    {
     "data": {
      "text/plain": [
       "count    2371.000000\n",
       "mean       21.589738\n",
       "std        10.845721\n",
       "min         0.000000\n",
       "25%        20.000000\n",
       "50%        20.000000\n",
       "75%        25.000000\n",
       "max       200.000000\n",
       "Name: tippercent, dtype: float64"
      ]
     },
     "execution_count": 34,
     "metadata": {},
     "output_type": "execute_result"
    }
   ],
   "source": [
    "trips['tippercent'].describe()"
   ]
  },
  {
   "cell_type": "code",
   "execution_count": 35,
   "metadata": {},
   "outputs": [
    {
     "data": {
      "text/plain": [
       "(2229, 5)"
      ]
     },
     "execution_count": 35,
     "metadata": {},
     "output_type": "execute_result"
    }
   ],
   "source": [
    "trips = trips[trips['tippercent'] <= 50]\n",
    "trips = trips[trips['tippercent'] != 0]\n",
    "\n",
    "trips.shape"
   ]
  },
  {
   "cell_type": "markdown",
   "metadata": {},
   "source": [
    "### 2229 observations were found valid for this analysis.\n",
    "\n",
    "## Linear Model to assess collinearity between tip % and trip distance (miles)"
   ]
  },
  {
   "cell_type": "code",
   "execution_count": 36,
   "metadata": {
    "scrolled": false
   },
   "outputs": [
    {
     "data": {
      "text/html": [
       "<table class=\"simpletable\">\n",
       "<caption>OLS Regression Results</caption>\n",
       "<tr>\n",
       "  <th>Dep. Variable:</th>       <td>tip_amount</td>    <th>  R-squared:         </th> <td>   0.001</td>\n",
       "</tr>\n",
       "<tr>\n",
       "  <th>Model:</th>                   <td>OLS</td>       <th>  Adj. R-squared:    </th> <td>   0.000</td>\n",
       "</tr>\n",
       "<tr>\n",
       "  <th>Method:</th>             <td>Least Squares</td>  <th>  F-statistic:       </th> <td>   1.328</td>\n",
       "</tr>\n",
       "<tr>\n",
       "  <th>Date:</th>             <td>Thu, 19 Apr 2018</td> <th>  Prob (F-statistic):</th>  <td> 0.249</td> \n",
       "</tr>\n",
       "<tr>\n",
       "  <th>Time:</th>                 <td>22:06:35</td>     <th>  Log-Likelihood:    </th> <td> -3095.2</td>\n",
       "</tr>\n",
       "<tr>\n",
       "  <th>No. Observations:</th>      <td>  2229</td>      <th>  AIC:               </th> <td>   6194.</td>\n",
       "</tr>\n",
       "<tr>\n",
       "  <th>Df Residuals:</th>          <td>  2227</td>      <th>  BIC:               </th> <td>   6206.</td>\n",
       "</tr>\n",
       "<tr>\n",
       "  <th>Df Model:</th>              <td>     1</td>      <th>                     </th>     <td> </td>   \n",
       "</tr>\n",
       "<tr>\n",
       "  <th>Covariance Type:</th>      <td>nonrobust</td>    <th>                     </th>     <td> </td>   \n",
       "</tr>\n",
       "</table>\n",
       "<table class=\"simpletable\">\n",
       "<tr>\n",
       "        <td></td>           <th>coef</th>     <th>std err</th>      <th>t</th>      <th>P>|t|</th>  <th>[0.025</th>    <th>0.975]</th>  \n",
       "</tr>\n",
       "<tr>\n",
       "  <th>Intercept</th>     <td>    1.1595</td> <td>    0.026</td> <td>   44.885</td> <td> 0.000</td> <td>    1.109</td> <td>    1.210</td>\n",
       "</tr>\n",
       "<tr>\n",
       "  <th>trip_distance</th> <td>    0.0064</td> <td>    0.006</td> <td>    1.153</td> <td> 0.249</td> <td>   -0.004</td> <td>    0.017</td>\n",
       "</tr>\n",
       "</table>\n",
       "<table class=\"simpletable\">\n",
       "<tr>\n",
       "  <th>Omnibus:</th>       <td>2852.677</td> <th>  Durbin-Watson:     </th>  <td>   1.796</td> \n",
       "</tr>\n",
       "<tr>\n",
       "  <th>Prob(Omnibus):</th>  <td> 0.000</td>  <th>  Jarque-Bera (JB):  </th> <td>398052.501</td>\n",
       "</tr>\n",
       "<tr>\n",
       "  <th>Skew:</th>           <td> 7.046</td>  <th>  Prob(JB):          </th>  <td>    0.00</td> \n",
       "</tr>\n",
       "<tr>\n",
       "  <th>Kurtosis:</th>       <td>66.932</td>  <th>  Cond. No.          </th>  <td>    5.95</td> \n",
       "</tr>\n",
       "</table>"
      ],
      "text/plain": [
       "<class 'statsmodels.iolib.summary.Summary'>\n",
       "\"\"\"\n",
       "                            OLS Regression Results                            \n",
       "==============================================================================\n",
       "Dep. Variable:             tip_amount   R-squared:                       0.001\n",
       "Model:                            OLS   Adj. R-squared:                  0.000\n",
       "Method:                 Least Squares   F-statistic:                     1.328\n",
       "Date:                Thu, 19 Apr 2018   Prob (F-statistic):              0.249\n",
       "Time:                        22:06:35   Log-Likelihood:                -3095.2\n",
       "No. Observations:                2229   AIC:                             6194.\n",
       "Df Residuals:                    2227   BIC:                             6206.\n",
       "Df Model:                           1                                         \n",
       "Covariance Type:            nonrobust                                         \n",
       "=================================================================================\n",
       "                    coef    std err          t      P>|t|      [0.025      0.975]\n",
       "---------------------------------------------------------------------------------\n",
       "Intercept         1.1595      0.026     44.885      0.000       1.109       1.210\n",
       "trip_distance     0.0064      0.006      1.153      0.249      -0.004       0.017\n",
       "==============================================================================\n",
       "Omnibus:                     2852.677   Durbin-Watson:                   1.796\n",
       "Prob(Omnibus):                  0.000   Jarque-Bera (JB):           398052.501\n",
       "Skew:                           7.046   Prob(JB):                         0.00\n",
       "Kurtosis:                      66.932   Cond. No.                         5.95\n",
       "==============================================================================\n",
       "\n",
       "Warnings:\n",
       "[1] Standard Errors assume that the covariance matrix of the errors is correctly specified.\n",
       "\"\"\""
      ]
     },
     "execution_count": 36,
     "metadata": {},
     "output_type": "execute_result"
    }
   ],
   "source": [
    "# modeling tip with distance\n",
    "tdmodel = smf.ols(formula='tip_amount ~ trip_distance', data=trips).fit()\n",
    "tdmodel.summary()"
   ]
  },
  {
   "cell_type": "code",
   "execution_count": 37,
   "metadata": {},
   "outputs": [
    {
     "data": {
      "text/plain": [
       "<matplotlib.figure.Figure at 0x11a70b7f0>"
      ]
     },
     "metadata": {},
     "output_type": "display_data"
    },
    {
     "data": {
      "image/png": "[encoded data removed]",
      "text/plain": [
       "<matplotlib.figure.Figure at 0x11a70bda0>"
      ]
     },
     "metadata": {},
     "output_type": "display_data"
    }
   ],
   "source": [
    "fig = pl.figure(figsize(10,5))\n",
    "\n",
    "ax = trips.plot.scatter(x='trip_distance', y='tippercent', alpha=0.3)\n",
    "ax.plot(trips.trip_distance, tdmodel.fittedvalues, 'k')\n",
    "\n",
    "ax.spines['right'].set_visible(False)\n",
    "ax.spines['left'].set_visible(False)\n",
    "\n",
    "ax.set_xlabel(\"trip diatance (miles)\", fontsize=15)\n",
    "ax.set_ylabel(\"tip percentage\", fontsize=15)\n",
    "plt.grid(linewidth=0.5, axis='y', linestyle='-.')"
   ]
  },
  {
   "cell_type": "markdown",
   "metadata": {},
   "source": [
    "### Fig.4\n",
    "Scatter plot of tip % against trip distance for May 2013 rides with non-zero tip and tip < 50% of fare amount. Also plotted (black line) is a linear fit of trip duration to fare, revealing a low predictive power of a model of trip fare from trip duration (Rsquares = 0.001 or 0.1% of the variance in tip % explained by distance). The fixed tip % of 10%, 20%, 25%, 30%, 40% can be considered outliers for the purpose of this analysis and will be removed in the next step."
   ]
  },
  {
   "cell_type": "code",
   "execution_count": 38,
   "metadata": {},
   "outputs": [
    {
     "data": {
      "text/plain": [
       "(1929, 5)"
      ]
     },
     "execution_count": 38,
     "metadata": {},
     "output_type": "execute_result"
    }
   ],
   "source": [
    "trips[~(trips['tippercent'] == 25)].shape"
   ]
  },
  {
   "cell_type": "code",
   "execution_count": 39,
   "metadata": {},
   "outputs": [
    {
     "data": {
      "text/html": [
       "<div>\n",
       "<style>\n",
       "    .dataframe thead tr:only-child th {\n",
       "        text-align: right;\n",
       "    }\n",
       "\n",
       "    .dataframe thead th {\n",
       "        text-align: left;\n",
       "    }\n",
       "\n",
       "    .dataframe tbody tr th {\n",
       "        vertical-align: top;\n",
       "    }\n",
       "</style>\n",
       "<table border=\"1\" class=\"dataframe\">\n",
       "  <thead>\n",
       "    <tr style=\"text-align: right;\">\n",
       "      <th></th>\n",
       "      <th>hack_license_x</th>\n",
       "      <th>trip_distance</th>\n",
       "      <th>fare_amount</th>\n",
       "      <th>tip_amount</th>\n",
       "      <th>tippercent</th>\n",
       "    </tr>\n",
       "  </thead>\n",
       "  <tbody>\n",
       "    <tr>\n",
       "      <th>16</th>\n",
       "      <td>4F463F528AF7914347A78753E4D2C379</td>\n",
       "      <td>1.15</td>\n",
       "      <td>4.0</td>\n",
       "      <td>0.5</td>\n",
       "      <td>12.5</td>\n",
       "    </tr>\n",
       "    <tr>\n",
       "      <th>19</th>\n",
       "      <td>3417112F7EC6927AC309EFA59AAA4F7F</td>\n",
       "      <td>0.89</td>\n",
       "      <td>4.0</td>\n",
       "      <td>0.5</td>\n",
       "      <td>12.5</td>\n",
       "    </tr>\n",
       "    <tr>\n",
       "      <th>25</th>\n",
       "      <td>4F463F528AF7914347A78753E4D2C379</td>\n",
       "      <td>0.83</td>\n",
       "      <td>4.0</td>\n",
       "      <td>0.5</td>\n",
       "      <td>12.5</td>\n",
       "    </tr>\n",
       "    <tr>\n",
       "      <th>45</th>\n",
       "      <td>5A8D52FC0D079DFE7CCFA72AE0000FF9</td>\n",
       "      <td>0.86</td>\n",
       "      <td>4.0</td>\n",
       "      <td>0.5</td>\n",
       "      <td>12.5</td>\n",
       "    </tr>\n",
       "    <tr>\n",
       "      <th>52</th>\n",
       "      <td>DD63AD6504C4A40A301AEE0C5CE41C28</td>\n",
       "      <td>5.72</td>\n",
       "      <td>4.0</td>\n",
       "      <td>1.5</td>\n",
       "      <td>37.5</td>\n",
       "    </tr>\n",
       "  </tbody>\n",
       "</table>\n",
       "</div>"
      ],
      "text/plain": [
       "                      hack_license_x  trip_distance  fare_amount  tip_amount  \\\n",
       "16  4F463F528AF7914347A78753E4D2C379           1.15          4.0         0.5   \n",
       "19  3417112F7EC6927AC309EFA59AAA4F7F           0.89          4.0         0.5   \n",
       "25  4F463F528AF7914347A78753E4D2C379           0.83          4.0         0.5   \n",
       "45  5A8D52FC0D079DFE7CCFA72AE0000FF9           0.86          4.0         0.5   \n",
       "52  DD63AD6504C4A40A301AEE0C5CE41C28           5.72          4.0         1.5   \n",
       "\n",
       "    tippercent  \n",
       "16        12.5  \n",
       "19        12.5  \n",
       "25        12.5  \n",
       "45        12.5  \n",
       "52        37.5  "
      ]
     },
     "execution_count": 39,
     "metadata": {},
     "output_type": "execute_result"
    }
   ],
   "source": [
    "# removing \n",
    "\n",
    "# cuts\n",
    "trips_cut = trips[trips['tippercent'] != 20]\n",
    "trips_cut = trips_cut[trips_cut['tippercent'] != 10]\n",
    "trips_cut = trips_cut[trips_cut['tippercent'] != 25]\n",
    "trips_cut = trips_cut[trips_cut['tippercent'] != 30]\n",
    "trips_cut = trips_cut[trips_cut['tippercent'] != 40]\n",
    "trips_cut = trips_cut[trips_cut['tippercent'] != 15]\n",
    "trips_cut = trips_cut[trips_cut['tippercent'] != 12]\n",
    "trips_cut = trips_cut[trips_cut['tippercent'] != 50]\n",
    "\n",
    "trips_cut.head()"
   ]
  },
  {
   "cell_type": "code",
   "execution_count": 40,
   "metadata": {},
   "outputs": [
    {
     "data": {
      "text/plain": [
       "(268, 5)"
      ]
     },
     "execution_count": 40,
     "metadata": {},
     "output_type": "execute_result"
    }
   ],
   "source": [
    "trips_cut.shape"
   ]
  },
  {
   "cell_type": "code",
   "execution_count": 41,
   "metadata": {
    "scrolled": false
   },
   "outputs": [
    {
     "data": {
      "text/html": [
       "<table class=\"simpletable\">\n",
       "<caption>OLS Regression Results</caption>\n",
       "<tr>\n",
       "  <th>Dep. Variable:</th>       <td>tip_amount</td>    <th>  R-squared:         </th> <td>   0.006</td>\n",
       "</tr>\n",
       "<tr>\n",
       "  <th>Model:</th>                   <td>OLS</td>       <th>  Adj. R-squared:    </th> <td>   0.002</td>\n",
       "</tr>\n",
       "<tr>\n",
       "  <th>Method:</th>             <td>Least Squares</td>  <th>  F-statistic:       </th> <td>   1.520</td>\n",
       "</tr>\n",
       "<tr>\n",
       "  <th>Date:</th>             <td>Thu, 19 Apr 2018</td> <th>  Prob (F-statistic):</th>  <td> 0.219</td> \n",
       "</tr>\n",
       "<tr>\n",
       "  <th>Time:</th>                 <td>22:06:42</td>     <th>  Log-Likelihood:    </th> <td> -604.84</td>\n",
       "</tr>\n",
       "<tr>\n",
       "  <th>No. Observations:</th>      <td>   268</td>      <th>  AIC:               </th> <td>   1214.</td>\n",
       "</tr>\n",
       "<tr>\n",
       "  <th>Df Residuals:</th>          <td>   266</td>      <th>  BIC:               </th> <td>   1221.</td>\n",
       "</tr>\n",
       "<tr>\n",
       "  <th>Df Model:</th>              <td>     1</td>      <th>                     </th>     <td> </td>   \n",
       "</tr>\n",
       "<tr>\n",
       "  <th>Covariance Type:</th>      <td>nonrobust</td>    <th>                     </th>     <td> </td>   \n",
       "</tr>\n",
       "</table>\n",
       "<table class=\"simpletable\">\n",
       "<tr>\n",
       "        <td></td>           <th>coef</th>     <th>std err</th>      <th>t</th>      <th>P>|t|</th>  <th>[0.025</th>    <th>0.975]</th>  \n",
       "</tr>\n",
       "<tr>\n",
       "  <th>Intercept</th>     <td>    2.0810</td> <td>    0.177</td> <td>   11.740</td> <td> 0.000</td> <td>    1.732</td> <td>    2.430</td>\n",
       "</tr>\n",
       "<tr>\n",
       "  <th>trip_distance</th> <td>    0.0481</td> <td>    0.039</td> <td>    1.233</td> <td> 0.219</td> <td>   -0.029</td> <td>    0.125</td>\n",
       "</tr>\n",
       "</table>\n",
       "<table class=\"simpletable\">\n",
       "<tr>\n",
       "  <th>Omnibus:</th>       <td>124.772</td> <th>  Durbin-Watson:     </th> <td>   1.687</td>\n",
       "</tr>\n",
       "<tr>\n",
       "  <th>Prob(Omnibus):</th> <td> 0.000</td>  <th>  Jarque-Bera (JB):  </th> <td> 422.139</td>\n",
       "</tr>\n",
       "<tr>\n",
       "  <th>Skew:</th>          <td> 2.087</td>  <th>  Prob(JB):          </th> <td>2.16e-92</td>\n",
       "</tr>\n",
       "<tr>\n",
       "  <th>Kurtosis:</th>      <td> 7.515</td>  <th>  Cond. No.          </th> <td>    5.79</td>\n",
       "</tr>\n",
       "</table>"
      ],
      "text/plain": [
       "<class 'statsmodels.iolib.summary.Summary'>\n",
       "\"\"\"\n",
       "                            OLS Regression Results                            \n",
       "==============================================================================\n",
       "Dep. Variable:             tip_amount   R-squared:                       0.006\n",
       "Model:                            OLS   Adj. R-squared:                  0.002\n",
       "Method:                 Least Squares   F-statistic:                     1.520\n",
       "Date:                Thu, 19 Apr 2018   Prob (F-statistic):              0.219\n",
       "Time:                        22:06:42   Log-Likelihood:                -604.84\n",
       "No. Observations:                 268   AIC:                             1214.\n",
       "Df Residuals:                     266   BIC:                             1221.\n",
       "Df Model:                           1                                         \n",
       "Covariance Type:            nonrobust                                         \n",
       "=================================================================================\n",
       "                    coef    std err          t      P>|t|      [0.025      0.975]\n",
       "---------------------------------------------------------------------------------\n",
       "Intercept         2.0810      0.177     11.740      0.000       1.732       2.430\n",
       "trip_distance     0.0481      0.039      1.233      0.219      -0.029       0.125\n",
       "==============================================================================\n",
       "Omnibus:                      124.772   Durbin-Watson:                   1.687\n",
       "Prob(Omnibus):                  0.000   Jarque-Bera (JB):              422.139\n",
       "Skew:                           2.087   Prob(JB):                     2.16e-92\n",
       "Kurtosis:                       7.515   Cond. No.                         5.79\n",
       "==============================================================================\n",
       "\n",
       "Warnings:\n",
       "[1] Standard Errors assume that the covariance matrix of the errors is correctly specified.\n",
       "\"\"\""
      ]
     },
     "execution_count": 41,
     "metadata": {},
     "output_type": "execute_result"
    }
   ],
   "source": [
    "# modeling tip with distance\n",
    "tdmodel2 = smf.ols(formula='tip_amount ~ trip_distance', data=trips_cut).fit()\n",
    "tdmodel2.summary()"
   ]
  },
  {
   "cell_type": "code",
   "execution_count": 42,
   "metadata": {},
   "outputs": [
    {
     "data": {
      "text/plain": [
       "<matplotlib.figure.Figure at 0x11a505f98>"
      ]
     },
     "metadata": {},
     "output_type": "display_data"
    },
    {
     "data": {
      "image/png": "[encoded data removed]",
      "text/plain": [
       "<matplotlib.figure.Figure at 0x117292f60>"
      ]
     },
     "metadata": {},
     "output_type": "display_data"
    }
   ],
   "source": [
    "fig = pl.figure(figsize(10,5))\n",
    "\n",
    "ax = trips_cut.plot.scatter(x='trip_distance', y='tippercent', alpha=0.3)\n",
    "ax.plot(trips_cut.trip_distance, tdmodel2.fittedvalues, 'k')\n",
    "\n",
    "ax.spines['right'].set_visible(False)\n",
    "ax.spines['left'].set_visible(False)\n",
    "\n",
    "ax.set_xlabel(\"trip diatance (miles)\", fontsize=15)\n",
    "ax.set_ylabel(\"tip percentage\", fontsize=15)\n",
    "plt.grid(linewidth=0.5, axis='y', linestyle='-.')"
   ]
  },
  {
   "attachments": {},
   "cell_type": "markdown",
   "metadata": {},
   "source": [
    "## Fig.5\n",
    "Scatter plot of tip % against trip distance for May 2013 rides with non-zero tip and tip < 50% of fare amount, fixed tip % of 10%, 20%, 25%, 30%, 40% had been removed. Also plotted (black line) is a linear fit of trip duration to fare, revealing a low predictive power of a model of trip fare from trip duration (R2 = 0.005 or 0.5% of the variance in tip % explained by distance). It is worth considering build the model only on short distance."
   ]
  },
  {
   "cell_type": "markdown",
   "metadata": {},
   "source": [
    "### Threshold for trip distance:"
   ]
  },
  {
   "cell_type": "code",
   "execution_count": 45,
   "metadata": {
    "scrolled": true
   },
   "outputs": [
    {
     "name": "stdout",
     "output_type": "stream",
     "text": [
      "The distribution of trip distance does not follow a normal distribution (p < 0.05) according to the AD test\n"
     ]
    }
   ],
   "source": [
    "adDist = sp.stats.anderson((trips_cut.trip_distance - \n",
    "                trips_cut.trip_distance.mean())  / \n",
    "                    trips_cut.trip_distance.std(), \"norm\")\n",
    "verb = \"does not \" if adDist[0] > adDist[1][adDist[2] == alpha * 100] else \"does \"\n",
    "print (\"The distribution of trip distance \" + verb + \"follow a normal distribution (p < 0.05) \" + \n",
    "      \"according to the AD test\")"
   ]
  },
  {
   "cell_type": "code",
   "execution_count": 46,
   "metadata": {},
   "outputs": [
    {
     "data": {
      "image/png": "[encoded data removed]",
      "text/plain": [
       "<matplotlib.figure.Figure at 0x11b409b70>"
      ]
     },
     "metadata": {},
     "output_type": "display_data"
    }
   ],
   "source": [
    "# assuming a reasinable tip to be up to 50% of fare amount\n",
    "fig = pl.figure(figsize(12,5))\n",
    "\n",
    "ax = trips_cut['trip_distance'].plot(kind=\"hist\", alpha=0.7)\n",
    "\n",
    "ax.spines['right'].set_visible(False)\n",
    "ax.spines['left'].set_visible(False)\n",
    "\n",
    "ax.set_xlabel(\"trip distance\", fontsize=15)\n",
    "ax.set_ylabel(\"Frequency\", fontsize=15)\n",
    "plt.grid(linewidth=0.5, axis='y', linestyle='-.')"
   ]
  },
  {
   "attachments": {},
   "cell_type": "markdown",
   "metadata": {},
   "source": [
    "## Fig.6\n",
    "Histogram of the distribution of trip distance. Most of the trips are bellow ~7 miles."
   ]
  },
  {
   "cell_type": "code",
   "execution_count": 47,
   "metadata": {
    "scrolled": true
   },
   "outputs": [
    {
     "data": {
      "image/png": "[encoded data removed]",
      "text/plain": [
       "<matplotlib.figure.Figure at 0x11ae51dd8>"
      ]
     },
     "metadata": {},
     "output_type": "display_data"
    }
   ],
   "source": [
    "# assuming a reasinable tip to be up to 50% of fare amount\n",
    "fig = pl.figure(figsize(12,5))\n",
    "\n",
    "ax = trips_cut[trips_cut['trip_distance'] <= 7.5]['trip_distance'].plot(kind=\"hist\", alpha=0.7)\n",
    "\n",
    "ax.spines['right'].set_visible(False)\n",
    "ax.spines['left'].set_visible(False)\n",
    "\n",
    "ax.set_xlabel(\"tip percentage\", fontsize=15)\n",
    "ax.set_ylabel(\"Frequency\", fontsize=15)\n",
    "plt.grid(linewidth=0.5, axis='y', linestyle='-.')"
   ]
  },
  {
   "cell_type": "markdown",
   "metadata": {},
   "source": [
    "## Fig.7\n",
    "Histogram of the distribution of trip distance, trips of 7.5 miles or bellow."
   ]
  },
  {
   "cell_type": "code",
   "execution_count": 48,
   "metadata": {},
   "outputs": [
    {
     "data": {
      "text/plain": [
       "(249, 5)"
      ]
     },
     "execution_count": 48,
     "metadata": {},
     "output_type": "execute_result"
    }
   ],
   "source": [
    "trips_short = trips_cut[trips_cut['trip_distance'] <= 7.5]\n",
    "trips_short.shape"
   ]
  },
  {
   "cell_type": "code",
   "execution_count": 49,
   "metadata": {},
   "outputs": [
    {
     "data": {
      "text/html": [
       "<table class=\"simpletable\">\n",
       "<caption>OLS Regression Results</caption>\n",
       "<tr>\n",
       "  <th>Dep. Variable:</th>       <td>tip_amount</td>    <th>  R-squared:         </th> <td>   0.012</td>\n",
       "</tr>\n",
       "<tr>\n",
       "  <th>Model:</th>                   <td>OLS</td>       <th>  Adj. R-squared:    </th> <td>   0.008</td>\n",
       "</tr>\n",
       "<tr>\n",
       "  <th>Method:</th>             <td>Least Squares</td>  <th>  F-statistic:       </th> <td>   3.022</td>\n",
       "</tr>\n",
       "<tr>\n",
       "  <th>Date:</th>             <td>Thu, 19 Apr 2018</td> <th>  Prob (F-statistic):</th>  <td>0.0834</td> \n",
       "</tr>\n",
       "<tr>\n",
       "  <th>Time:</th>                 <td>22:07:21</td>     <th>  Log-Likelihood:    </th> <td> -562.38</td>\n",
       "</tr>\n",
       "<tr>\n",
       "  <th>No. Observations:</th>      <td>   249</td>      <th>  AIC:               </th> <td>   1129.</td>\n",
       "</tr>\n",
       "<tr>\n",
       "  <th>Df Residuals:</th>          <td>   247</td>      <th>  BIC:               </th> <td>   1136.</td>\n",
       "</tr>\n",
       "<tr>\n",
       "  <th>Df Model:</th>              <td>     1</td>      <th>                     </th>     <td> </td>   \n",
       "</tr>\n",
       "<tr>\n",
       "  <th>Covariance Type:</th>      <td>nonrobust</td>    <th>                     </th>     <td> </td>   \n",
       "</tr>\n",
       "</table>\n",
       "<table class=\"simpletable\">\n",
       "<tr>\n",
       "        <td></td>           <th>coef</th>     <th>std err</th>      <th>t</th>      <th>P>|t|</th>  <th>[0.025</th>    <th>0.975]</th>  \n",
       "</tr>\n",
       "<tr>\n",
       "  <th>Intercept</th>     <td>    1.8179</td> <td>    0.259</td> <td>    7.021</td> <td> 0.000</td> <td>    1.308</td> <td>    2.328</td>\n",
       "</tr>\n",
       "<tr>\n",
       "  <th>trip_distance</th> <td>    0.2026</td> <td>    0.117</td> <td>    1.738</td> <td> 0.083</td> <td>   -0.027</td> <td>    0.432</td>\n",
       "</tr>\n",
       "</table>\n",
       "<table class=\"simpletable\">\n",
       "<tr>\n",
       "  <th>Omnibus:</th>       <td>119.754</td> <th>  Durbin-Watson:     </th> <td>   1.723</td>\n",
       "</tr>\n",
       "<tr>\n",
       "  <th>Prob(Omnibus):</th> <td> 0.000</td>  <th>  Jarque-Bera (JB):  </th> <td> 415.564</td>\n",
       "</tr>\n",
       "<tr>\n",
       "  <th>Skew:</th>          <td> 2.126</td>  <th>  Prob(JB):          </th> <td>5.77e-91</td>\n",
       "</tr>\n",
       "<tr>\n",
       "  <th>Kurtosis:</th>      <td> 7.688</td>  <th>  Cond. No.          </th> <td>    4.47</td>\n",
       "</tr>\n",
       "</table>"
      ],
      "text/plain": [
       "<class 'statsmodels.iolib.summary.Summary'>\n",
       "\"\"\"\n",
       "                            OLS Regression Results                            \n",
       "==============================================================================\n",
       "Dep. Variable:             tip_amount   R-squared:                       0.012\n",
       "Model:                            OLS   Adj. R-squared:                  0.008\n",
       "Method:                 Least Squares   F-statistic:                     3.022\n",
       "Date:                Thu, 19 Apr 2018   Prob (F-statistic):             0.0834\n",
       "Time:                        22:07:21   Log-Likelihood:                -562.38\n",
       "No. Observations:                 249   AIC:                             1129.\n",
       "Df Residuals:                     247   BIC:                             1136.\n",
       "Df Model:                           1                                         \n",
       "Covariance Type:            nonrobust                                         \n",
       "=================================================================================\n",
       "                    coef    std err          t      P>|t|      [0.025      0.975]\n",
       "---------------------------------------------------------------------------------\n",
       "Intercept         1.8179      0.259      7.021      0.000       1.308       2.328\n",
       "trip_distance     0.2026      0.117      1.738      0.083      -0.027       0.432\n",
       "==============================================================================\n",
       "Omnibus:                      119.754   Durbin-Watson:                   1.723\n",
       "Prob(Omnibus):                  0.000   Jarque-Bera (JB):              415.564\n",
       "Skew:                           2.126   Prob(JB):                     5.77e-91\n",
       "Kurtosis:                       7.688   Cond. No.                         4.47\n",
       "==============================================================================\n",
       "\n",
       "Warnings:\n",
       "[1] Standard Errors assume that the covariance matrix of the errors is correctly specified.\n",
       "\"\"\""
      ]
     },
     "execution_count": 49,
     "metadata": {},
     "output_type": "execute_result"
    }
   ],
   "source": [
    "# modeling tip with distance\n",
    "tdmodel3 = smf.ols(formula='tip_amount ~ trip_distance', data=trips_short).fit()\n",
    "tdmodel3.summary()"
   ]
  },
  {
   "cell_type": "code",
   "execution_count": 50,
   "metadata": {},
   "outputs": [
    {
     "data": {
      "text/plain": [
       "<matplotlib.figure.Figure at 0x11b4f9198>"
      ]
     },
     "metadata": {},
     "output_type": "display_data"
    },
    {
     "data": {
      "image/png": "[encoded data removed]",
      "text/plain": [
       "<matplotlib.figure.Figure at 0x11bad89b0>"
      ]
     },
     "metadata": {},
     "output_type": "display_data"
    }
   ],
   "source": [
    "fig = pl.figure(figsize(10,5))\n",
    "\n",
    "ax = trips_short.plot.scatter(x='trip_distance', y='tippercent', alpha=0.3)\n",
    "ax.plot(trips_short.trip_distance, tdmodel3.fittedvalues, 'k')\n",
    "\n",
    "ax.spines['right'].set_visible(False)\n",
    "ax.spines['left'].set_visible(False)\n",
    "\n",
    "ax.set_xlabel(\"trip diatance (miles)\", fontsize=15)\n",
    "ax.set_ylabel(\"tip percentage\", fontsize=15)\n",
    "plt.grid(linewidth=0.5, axis='y', linestyle='-.')"
   ]
  },
  {
   "attachments": {},
   "cell_type": "markdown",
   "metadata": {},
   "source": [
    "## Fig.8\n",
    "Scatter plot of tip % against trip distance for May 2013 rides with non-zero tip and tip < 50% of fare amount, fixed tip % of 10%, 20%, 25%, 30%, 40% had been removed, as well as trips longer than 7.5 miles. Also plotted (black line) is a linear fit of trip duration to fare, revealing a low predictive power of a model of trip fare from trip duration (R2 = 0.012 or 1.2% of the variance in tip % explained by distance)."
   ]
  },
  {
   "cell_type": "markdown",
   "metadata": {},
   "source": [
    "## 4.\tHow would you assess whether your response to #3 is different for different drivers? Answer theoretically, no need to implement your analysis. "
   ]
  },
  {
   "attachments": {},
   "cell_type": "markdown",
   "metadata": {
    "collapsed": true
   },
   "source": [
    "- (**If there were data of drivers’ ranking**) I can assume that drivers with different ranks would show different tipping patterns of their passengers. According to data availability of drivers’ rankings, I will build the model as in task 3 for each ranking (1-5) group of drivers.  \n",
    "- I can **cluster drivers by their tip amount** (US dollars or % from fare) using clustering technique such as **K-means**, assuming k=4 clusters, and remodel the OLS for each of the clusters.\n",
    "- More thorough: I assume that passengers from different neighborhoods and different socio-economic backgrounds will have different tipping patterns. Thus, I can define trip origin using the pickup_longitude and pickup_latitude. I will merge NYC census tracts shapefiles into my dataset using geopandas, and will incorporate ACS median income data in order to assign census tracts to income groups (assuming four groups / quartiles), then find each driver’s common areas of work and will assign them to the income group. Finally, I will remodel the tip % over trip distance for each income group of drivers. "
   ]
  },
  {
   "cell_type": "markdown",
   "metadata": {},
   "source": [
    "## 5.\tWe’re concerned that a few bad drivers may be under-reporting cash tips.  Does the difference between cash tips and credit card tips differ by time of day? Day of week?"
   ]
  },
  {
   "cell_type": "markdown",
   "metadata": {},
   "source": [
    "For this analysis I will use the same dataset of trip_fare from **task 3**. \n",
    "\n",
    "nyctaxi payment_type data are displayed as follows:\n",
    "    \n",
    "     credit card = CRD\n",
    "     cash = CSH\n",
    "     unknown = UNK\n",
    "    \n",
    "** 'NOC' and 'DIS' payment types were not include in this analysis"
   ]
  },
  {
   "cell_type": "code",
   "execution_count": 51,
   "metadata": {
    "collapsed": true
   },
   "outputs": [],
   "source": [
    "tripfare = tripfare6"
   ]
  },
  {
   "cell_type": "code",
   "execution_count": 52,
   "metadata": {},
   "outputs": [
    {
     "data": {
      "text/plain": [
       "(9924, 12)"
      ]
     },
     "execution_count": 52,
     "metadata": {},
     "output_type": "execute_result"
    }
   ],
   "source": [
    "tripfare.shape"
   ]
  },
  {
   "cell_type": "code",
   "execution_count": 53,
   "metadata": {
    "scrolled": true
   },
   "outputs": [
    {
     "name": "stdout",
     "output_type": "stream",
     "text": [
      "characteristics of the tips amount ($) distribution\n"
     ]
    },
    {
     "data": {
      "text/plain": [
       "count    9924.000000\n",
       "mean        5.532402\n",
       "std         3.608504\n",
       "min         0.010000\n",
       "25%         3.500000\n",
       "50%         5.380000\n",
       "75%         7.200000\n",
       "max        43.830000\n",
       "Name: tip_amount, dtype: float64"
      ]
     },
     "execution_count": 53,
     "metadata": {},
     "output_type": "execute_result"
    }
   ],
   "source": [
    "# learning the data\n",
    "print(\"characteristics of the tips amount ($) distribution\")\n",
    "tripfare[\"tip_amount\"].describe()"
   ]
  },
  {
   "cell_type": "markdown",
   "metadata": {},
   "source": [
    "### The data does not include 0.0 dollars tips. The maximum tip is 117.5 dollars; a threshold of 50% tip will be applied."
   ]
  },
  {
   "cell_type": "code",
   "execution_count": 54,
   "metadata": {
    "collapsed": true
   },
   "outputs": [],
   "source": [
    "# tip percent\n",
    "tripfare['tippercent'] = tripfare['tip_amount'] / tripfare['fare_amount']"
   ]
  },
  {
   "cell_type": "code",
   "execution_count": 65,
   "metadata": {
    "scrolled": true
   },
   "outputs": [
    {
     "data": {
      "text/plain": [
       "(9924, 12)"
      ]
     },
     "execution_count": 65,
     "metadata": {},
     "output_type": "execute_result"
    }
   ],
   "source": [
    "# remove outliers from data\n",
    "ptype = tripfare[tripfare['tippercent'] <= 0.5]\n",
    "ptype.shape"
   ]
  },
  {
   "cell_type": "markdown",
   "metadata": {},
   "source": [
    "### ** 9924 observations were found valid"
   ]
  },
  {
   "cell_type": "code",
   "execution_count": 66,
   "metadata": {
    "scrolled": false
   },
   "outputs": [
    {
     "data": {
      "text/plain": [
       "CRD    9824\n",
       "CSH      95\n",
       "NOC       3\n",
       "UNK       1\n",
       "DIS       1\n",
       "Name: payment_type, dtype: int64"
      ]
     },
     "execution_count": 66,
     "metadata": {},
     "output_type": "execute_result"
    }
   ],
   "source": [
    "ptype.payment_type.value_counts()"
   ]
  },
  {
   "cell_type": "markdown",
   "metadata": {},
   "source": [
    "### ** 9824 credit card payed rides and 95 CSH will be included in the analysis of this task."
   ]
  },
  {
   "cell_type": "code",
   "execution_count": 67,
   "metadata": {},
   "outputs": [
    {
     "data": {
      "text/html": [
       "<div>\n",
       "<style>\n",
       "    .dataframe thead tr:only-child th {\n",
       "        text-align: right;\n",
       "    }\n",
       "\n",
       "    .dataframe thead th {\n",
       "        text-align: left;\n",
       "    }\n",
       "\n",
       "    .dataframe tbody tr th {\n",
       "        vertical-align: top;\n",
       "    }\n",
       "</style>\n",
       "<table border=\"1\" class=\"dataframe\">\n",
       "  <thead>\n",
       "    <tr style=\"text-align: right;\">\n",
       "      <th></th>\n",
       "      <th>hack_license</th>\n",
       "      <th>pickup_datetime</th>\n",
       "      <th>payment_type</th>\n",
       "      <th>tip_amount</th>\n",
       "    </tr>\n",
       "  </thead>\n",
       "  <tbody>\n",
       "    <tr>\n",
       "      <th>3173</th>\n",
       "      <td>1EECB392F960CC044315A28BF7C4CEED</td>\n",
       "      <td>2013-06-02 12:17:00</td>\n",
       "      <td>UNK</td>\n",
       "      <td>10.00</td>\n",
       "    </tr>\n",
       "    <tr>\n",
       "      <th>9630</th>\n",
       "      <td>BB4B1645ECEBC8E8B90835F631F81332</td>\n",
       "      <td>2013-06-03 08:27:00</td>\n",
       "      <td>CRD</td>\n",
       "      <td>1.55</td>\n",
       "    </tr>\n",
       "    <tr>\n",
       "      <th>7567</th>\n",
       "      <td>C3C525B62BE6A2E896917EA855A2EB5D</td>\n",
       "      <td>2013-06-03 19:27:24</td>\n",
       "      <td>CSH</td>\n",
       "      <td>14.55</td>\n",
       "    </tr>\n",
       "  </tbody>\n",
       "</table>\n",
       "</div>"
      ],
      "text/plain": [
       "                          hack_license      pickup_datetime payment_type  \\\n",
       "3173  1EECB392F960CC044315A28BF7C4CEED  2013-06-02 12:17:00          UNK   \n",
       "9630  BB4B1645ECEBC8E8B90835F631F81332  2013-06-03 08:27:00          CRD   \n",
       "7567  C3C525B62BE6A2E896917EA855A2EB5D  2013-06-03 19:27:24          CSH   \n",
       "\n",
       "      tip_amount  \n",
       "3173       10.00  \n",
       "9630        1.55  \n",
       "7567       14.55  "
      ]
     },
     "execution_count": 67,
     "metadata": {},
     "output_type": "execute_result"
    }
   ],
   "source": [
    "ptype = ptype.sort_values(['pickup_datetime'])\n",
    "ptype = ptype.drop(['medallion', 'vendor_id', 'fare_amount',\n",
    "            'surcharge', 'mta_tax', 'tolls_amount', 'total_amount', 'tippercent'], axis=1)\n",
    "ptype.head(3)"
   ]
  },
  {
   "cell_type": "code",
   "execution_count": 68,
   "metadata": {},
   "outputs": [
    {
     "data": {
      "text/html": [
       "<div>\n",
       "<style>\n",
       "    .dataframe thead tr:only-child th {\n",
       "        text-align: right;\n",
       "    }\n",
       "\n",
       "    .dataframe thead th {\n",
       "        text-align: left;\n",
       "    }\n",
       "\n",
       "    .dataframe tbody tr th {\n",
       "        vertical-align: top;\n",
       "    }\n",
       "</style>\n",
       "<table border=\"1\" class=\"dataframe\">\n",
       "  <thead>\n",
       "    <tr style=\"text-align: right;\">\n",
       "      <th></th>\n",
       "      <th>hack_license</th>\n",
       "      <th>pickup_datetime</th>\n",
       "      <th>payment_type</th>\n",
       "      <th>tip_amount</th>\n",
       "      <th>hour</th>\n",
       "      <th>day</th>\n",
       "    </tr>\n",
       "  </thead>\n",
       "  <tbody>\n",
       "    <tr>\n",
       "      <th>3173</th>\n",
       "      <td>1EECB392F960CC044315A28BF7C4CEED</td>\n",
       "      <td>2013-06-02 12:17:00</td>\n",
       "      <td>UNK</td>\n",
       "      <td>10.00</td>\n",
       "      <td>12</td>\n",
       "      <td>2</td>\n",
       "    </tr>\n",
       "    <tr>\n",
       "      <th>9630</th>\n",
       "      <td>BB4B1645ECEBC8E8B90835F631F81332</td>\n",
       "      <td>2013-06-03 08:27:00</td>\n",
       "      <td>CRD</td>\n",
       "      <td>1.55</td>\n",
       "      <td>8</td>\n",
       "      <td>3</td>\n",
       "    </tr>\n",
       "    <tr>\n",
       "      <th>7567</th>\n",
       "      <td>C3C525B62BE6A2E896917EA855A2EB5D</td>\n",
       "      <td>2013-06-03 19:27:24</td>\n",
       "      <td>CSH</td>\n",
       "      <td>14.55</td>\n",
       "      <td>19</td>\n",
       "      <td>3</td>\n",
       "    </tr>\n",
       "    <tr>\n",
       "      <th>7495</th>\n",
       "      <td>709490A8AD180DA97647D2F55DEEF4DF</td>\n",
       "      <td>2013-06-04 02:49:12</td>\n",
       "      <td>CSH</td>\n",
       "      <td>17.00</td>\n",
       "      <td>2</td>\n",
       "      <td>4</td>\n",
       "    </tr>\n",
       "    <tr>\n",
       "      <th>7569</th>\n",
       "      <td>E8D9F945738C84EF76325C8ECBE64982</td>\n",
       "      <td>2013-06-04 05:55:02</td>\n",
       "      <td>CSH</td>\n",
       "      <td>10.00</td>\n",
       "      <td>5</td>\n",
       "      <td>4</td>\n",
       "    </tr>\n",
       "  </tbody>\n",
       "</table>\n",
       "</div>"
      ],
      "text/plain": [
       "                          hack_license     pickup_datetime payment_type  \\\n",
       "3173  1EECB392F960CC044315A28BF7C4CEED 2013-06-02 12:17:00          UNK   \n",
       "9630  BB4B1645ECEBC8E8B90835F631F81332 2013-06-03 08:27:00          CRD   \n",
       "7567  C3C525B62BE6A2E896917EA855A2EB5D 2013-06-03 19:27:24          CSH   \n",
       "7495  709490A8AD180DA97647D2F55DEEF4DF 2013-06-04 02:49:12          CSH   \n",
       "7569  E8D9F945738C84EF76325C8ECBE64982 2013-06-04 05:55:02          CSH   \n",
       "\n",
       "      tip_amount  hour  day  \n",
       "3173       10.00    12    2  \n",
       "9630        1.55     8    3  \n",
       "7567       14.55    19    3  \n",
       "7495       17.00     2    4  \n",
       "7569       10.00     5    4  "
      ]
     },
     "execution_count": 68,
     "metadata": {},
     "output_type": "execute_result"
    }
   ],
   "source": [
    "ptype['pickup_datetime'] = pd.to_datetime(ptype['pickup_datetime'])\n",
    "ptype['hour'] = ptype['pickup_datetime'].dt.hour\n",
    "ptype['day'] = ptype['pickup_datetime'].dt.day\n",
    "\n",
    "ptype.head()"
   ]
  },
  {
   "cell_type": "code",
   "execution_count": 69,
   "metadata": {
    "scrolled": true
   },
   "outputs": [
    {
     "data": {
      "text/plain": [
       "count                    9924\n",
       "unique                   1247\n",
       "top       2013-06-06 09:00:00\n",
       "freq                       26\n",
       "first     2013-06-02 12:17:00\n",
       "last      2013-06-23 20:22:20\n",
       "Name: pickup_datetime, dtype: object"
      ]
     },
     "execution_count": 69,
     "metadata": {},
     "output_type": "execute_result"
    }
   ],
   "source": [
    "ptype['pickup_datetime'].describe()"
   ]
  },
  {
   "cell_type": "code",
   "execution_count": 70,
   "metadata": {
    "scrolled": false
   },
   "outputs": [
    {
     "data": {
      "text/html": [
       "<div>\n",
       "<style>\n",
       "    .dataframe thead tr:only-child th {\n",
       "        text-align: right;\n",
       "    }\n",
       "\n",
       "    .dataframe thead th {\n",
       "        text-align: left;\n",
       "    }\n",
       "\n",
       "    .dataframe tbody tr th {\n",
       "        vertical-align: top;\n",
       "    }\n",
       "</style>\n",
       "<table border=\"1\" class=\"dataframe\">\n",
       "  <thead>\n",
       "    <tr style=\"text-align: right;\">\n",
       "      <th></th>\n",
       "      <th>hack_license</th>\n",
       "      <th>pickup_datetime</th>\n",
       "      <th>payment_type</th>\n",
       "      <th>tip_amount</th>\n",
       "      <th>hour</th>\n",
       "      <th>day</th>\n",
       "      <th>weekday</th>\n",
       "    </tr>\n",
       "  </thead>\n",
       "  <tbody>\n",
       "    <tr>\n",
       "      <th>3173</th>\n",
       "      <td>1EECB392F960CC044315A28BF7C4CEED</td>\n",
       "      <td>2013-06-02 12:17:00</td>\n",
       "      <td>UNK</td>\n",
       "      <td>10.00</td>\n",
       "      <td>12</td>\n",
       "      <td>2</td>\n",
       "      <td>6</td>\n",
       "    </tr>\n",
       "    <tr>\n",
       "      <th>3484</th>\n",
       "      <td>031C0778C525511CFA67C436FDD023F1</td>\n",
       "      <td>2013-06-06 03:05:00</td>\n",
       "      <td>CRD</td>\n",
       "      <td>12.50</td>\n",
       "      <td>3</td>\n",
       "      <td>6</td>\n",
       "      <td>3</td>\n",
       "    </tr>\n",
       "    <tr>\n",
       "      <th>4566</th>\n",
       "      <td>03AF809EE8658B746A2B08649F0D303B</td>\n",
       "      <td>2013-06-06 06:29:00</td>\n",
       "      <td>CRD</td>\n",
       "      <td>4.90</td>\n",
       "      <td>6</td>\n",
       "      <td>6</td>\n",
       "      <td>3</td>\n",
       "    </tr>\n",
       "    <tr>\n",
       "      <th>6036</th>\n",
       "      <td>EE816625AC7BA336AE7CA144F8565876</td>\n",
       "      <td>2013-06-06 07:41:00</td>\n",
       "      <td>CRD</td>\n",
       "      <td>6.00</td>\n",
       "      <td>7</td>\n",
       "      <td>6</td>\n",
       "      <td>3</td>\n",
       "    </tr>\n",
       "    <tr>\n",
       "      <th>9992</th>\n",
       "      <td>841C64BF2AB653FC8A42F1050A3DF46E</td>\n",
       "      <td>2013-06-06 08:32:00</td>\n",
       "      <td>CRD</td>\n",
       "      <td>2.25</td>\n",
       "      <td>8</td>\n",
       "      <td>6</td>\n",
       "      <td>3</td>\n",
       "    </tr>\n",
       "    <tr>\n",
       "      <th>4787</th>\n",
       "      <td>435923C89514F75E495DF1C6C3A204E0</td>\n",
       "      <td>2013-06-06 09:22:00</td>\n",
       "      <td>CRD</td>\n",
       "      <td>5.10</td>\n",
       "      <td>9</td>\n",
       "      <td>6</td>\n",
       "      <td>3</td>\n",
       "    </tr>\n",
       "    <tr>\n",
       "      <th>128</th>\n",
       "      <td>00AE05F56D451E89E6F83EBE384FF5E6</td>\n",
       "      <td>2013-06-06 10:15:00</td>\n",
       "      <td>CRD</td>\n",
       "      <td>4.40</td>\n",
       "      <td>10</td>\n",
       "      <td>6</td>\n",
       "      <td>3</td>\n",
       "    </tr>\n",
       "    <tr>\n",
       "      <th>988</th>\n",
       "      <td>888ADCF92D38555FD92764434BED7CAA</td>\n",
       "      <td>2013-06-06 11:08:00</td>\n",
       "      <td>CRD</td>\n",
       "      <td>5.20</td>\n",
       "      <td>11</td>\n",
       "      <td>6</td>\n",
       "      <td>3</td>\n",
       "    </tr>\n",
       "    <tr>\n",
       "      <th>4121</th>\n",
       "      <td>F507ECAB0004B94FD014764F183F4E67</td>\n",
       "      <td>2013-06-06 12:03:00</td>\n",
       "      <td>CRD</td>\n",
       "      <td>4.50</td>\n",
       "      <td>12</td>\n",
       "      <td>6</td>\n",
       "      <td>3</td>\n",
       "    </tr>\n",
       "    <tr>\n",
       "      <th>521</th>\n",
       "      <td>29A5F01CE49ABBB4970D70378EE2C6F1</td>\n",
       "      <td>2013-06-06 12:56:00</td>\n",
       "      <td>CRD</td>\n",
       "      <td>4.00</td>\n",
       "      <td>12</td>\n",
       "      <td>6</td>\n",
       "      <td>3</td>\n",
       "    </tr>\n",
       "    <tr>\n",
       "      <th>4153</th>\n",
       "      <td>34D20801048B804028477F93B18FFAE5</td>\n",
       "      <td>2013-06-06 13:47:00</td>\n",
       "      <td>CRD</td>\n",
       "      <td>4.50</td>\n",
       "      <td>13</td>\n",
       "      <td>6</td>\n",
       "      <td>3</td>\n",
       "    </tr>\n",
       "    <tr>\n",
       "      <th>4613</th>\n",
       "      <td>0DECA0712DEFFBA24A0A347D0E6C1A65</td>\n",
       "      <td>2013-06-06 14:45:00</td>\n",
       "      <td>CRD</td>\n",
       "      <td>4.90</td>\n",
       "      <td>14</td>\n",
       "      <td>6</td>\n",
       "      <td>3</td>\n",
       "    </tr>\n",
       "    <tr>\n",
       "      <th>7707</th>\n",
       "      <td>353B3E814B147A94BB7FB61FE52B0F3A</td>\n",
       "      <td>2013-06-06 16:51:00</td>\n",
       "      <td>CRD</td>\n",
       "      <td>0.50</td>\n",
       "      <td>16</td>\n",
       "      <td>6</td>\n",
       "      <td>3</td>\n",
       "    </tr>\n",
       "  </tbody>\n",
       "</table>\n",
       "</div>"
      ],
      "text/plain": [
       "                          hack_license     pickup_datetime payment_type  \\\n",
       "3173  1EECB392F960CC044315A28BF7C4CEED 2013-06-02 12:17:00          UNK   \n",
       "3484  031C0778C525511CFA67C436FDD023F1 2013-06-06 03:05:00          CRD   \n",
       "4566  03AF809EE8658B746A2B08649F0D303B 2013-06-06 06:29:00          CRD   \n",
       "6036  EE816625AC7BA336AE7CA144F8565876 2013-06-06 07:41:00          CRD   \n",
       "9992  841C64BF2AB653FC8A42F1050A3DF46E 2013-06-06 08:32:00          CRD   \n",
       "4787  435923C89514F75E495DF1C6C3A204E0 2013-06-06 09:22:00          CRD   \n",
       "128   00AE05F56D451E89E6F83EBE384FF5E6 2013-06-06 10:15:00          CRD   \n",
       "988   888ADCF92D38555FD92764434BED7CAA 2013-06-06 11:08:00          CRD   \n",
       "4121  F507ECAB0004B94FD014764F183F4E67 2013-06-06 12:03:00          CRD   \n",
       "521   29A5F01CE49ABBB4970D70378EE2C6F1 2013-06-06 12:56:00          CRD   \n",
       "4153  34D20801048B804028477F93B18FFAE5 2013-06-06 13:47:00          CRD   \n",
       "4613  0DECA0712DEFFBA24A0A347D0E6C1A65 2013-06-06 14:45:00          CRD   \n",
       "7707  353B3E814B147A94BB7FB61FE52B0F3A 2013-06-06 16:51:00          CRD   \n",
       "\n",
       "      tip_amount  hour  day  weekday  \n",
       "3173       10.00    12    2        6  \n",
       "3484       12.50     3    6        3  \n",
       "4566        4.90     6    6        3  \n",
       "6036        6.00     7    6        3  \n",
       "9992        2.25     8    6        3  \n",
       "4787        5.10     9    6        3  \n",
       "128         4.40    10    6        3  \n",
       "988         5.20    11    6        3  \n",
       "4121        4.50    12    6        3  \n",
       "521         4.00    12    6        3  \n",
       "4153        4.50    13    6        3  \n",
       "4613        4.90    14    6        3  \n",
       "7707        0.50    16    6        3  "
      ]
     },
     "execution_count": 70,
     "metadata": {},
     "output_type": "execute_result"
    }
   ],
   "source": [
    "ptype['weekday'] = ptype['pickup_datetime'].dt.dayofweek\n",
    "ptype[::800]"
   ]
  },
  {
   "cell_type": "code",
   "execution_count": 71,
   "metadata": {
    "scrolled": true
   },
   "outputs": [
    {
     "data": {
      "text/plain": [
       "3    9729\n",
       "6     120\n",
       "4      49\n",
       "2      11\n",
       "5       7\n",
       "1       6\n",
       "0       2\n",
       "Name: weekday, dtype: int64"
      ]
     },
     "execution_count": 71,
     "metadata": {},
     "output_type": "execute_result"
    }
   ],
   "source": [
    "ptype['weekday'].value_counts()"
   ]
  },
  {
   "cell_type": "code",
   "execution_count": 72,
   "metadata": {},
   "outputs": [
    {
     "data": {
      "image/png": "[encoded data removed]",
      "text/plain": [
       "<matplotlib.figure.Figure at 0x116e0fa20>"
      ]
     },
     "metadata": {},
     "output_type": "display_data"
    }
   ],
   "source": [
    "fig = pl.figure(figsize(18,7))\n",
    "\n",
    "(ptype[ptype['payment_type'] == 'CSH']['tip_amount'].groupby([ptype['hour']]).sum()*10)\\\n",
    ".plot(kind=\"bar\", color='IndianRed', label='Cash ($*10)')\n",
    "ax = (ptype[ptype['payment_type'] == 'CRD']['tip_amount'].groupby([ptype['hour']]).sum())\\\n",
    ".plot(kind=\"bar\", color='SteelBlue', alpha=0.5, label='Credit Card', fontsize=16)\n",
    "\n",
    "pl.xlabel('Hour of the day', fontsize=20)\n",
    "pl.ylabel('Total tip amount (US dollars)', fontsize=20)\n",
    "pl.title('Total tip amount to yellow cab drivers by hour of the day, June 2013', fontsize=30, y=1.01)\n",
    "pl.legend(prop={'size': 20})\n",
    "\n",
    "ax.spines['right'].set_visible(False)\n",
    "ax.spines['left'].set_visible(False)\n",
    "plt.grid(linewidth=0.35, axis='y', linestyle='-.')"
   ]
  },
  {
   "attachments": {},
   "cell_type": "markdown",
   "metadata": {},
   "source": [
    "## Fig.9\n",
    "Bar plot of Total tip amount by hour of the day, for cash payed yellow cab rides and credit card payed yellow cab rides, occurring in June 2013. Cash total tip amount is multiplied by 10 in order to compare the two payment types efficiently. According to the graph, the difference between cash tips and credit card tips changes between day time and night time, although this change does not seem to be very meaningful."
   ]
  },
  {
   "cell_type": "code",
   "execution_count": 73,
   "metadata": {},
   "outputs": [
    {
     "data": {
      "image/png": "[encoded data removed]",
      "text/plain": [
       "<matplotlib.figure.Figure at 0x11a6946a0>"
      ]
     },
     "metadata": {},
     "output_type": "display_data"
    }
   ],
   "source": [
    "fig = pl.figure(figsize(18,7))\n",
    "\n",
    "(ptype[ptype['payment_type'] == 'CSH']['tip_amount'].groupby([ptype['weekday']]).sum()*10)\\\n",
    ".plot(kind=\"bar\", color='IndianRed', label='Cash')\n",
    "ax = (ptype[ptype['payment_type'] == 'CRD']['tip_amount'].groupby([ptype['weekday']]).sum())\\\n",
    ".plot(kind=\"bar\", color='SteelBlue', alpha=0.5, label='Credit Card', fontsize=16)\n",
    "\n",
    "pl.xlabel('Hour of the day', fontsize=20)\n",
    "pl.ylabel('Total tip amount (US dollars)', fontsize=20)\n",
    "pl.title('Total tip amount to yellow cab drivers by hour of the day, May 2013', fontsize=30, y=1.01)\n",
    "pl.legend(prop={'size': 20})\n",
    "\n",
    "ax.spines['right'].set_visible(False)\n",
    "ax.spines['left'].set_visible(False)\n",
    "plt.grid(linewidth=0.35, axis='y', linestyle='-.')"
   ]
  },
  {
   "cell_type": "markdown",
   "metadata": {},
   "source": [
    "## 6.\tWhich five taxi drivers do you think were under-reporting tips the most?\n",
    "Assuming the lowest sum of cash tips to be the most under-reporting drivers, I isolated the _'CSH' payment type_ and grouped by driver (_hack_license_), calculating the sum of _tip_amount_ and sorting by the _tip_amount_ column, viewing the top 5 rows."
   ]
  },
  {
   "cell_type": "code",
   "execution_count": 74,
   "metadata": {
    "scrolled": false
   },
   "outputs": [
    {
     "data": {
      "text/plain": [
       "hack_license\n",
       "BBB0371651B842361E8068F803BD5AFE    0.01\n",
       "9B6D45D23A986E2F69F923166D14785D    0.08\n",
       "CFE3D545806FCF6E3E8F885674EB1B74    0.08\n",
       "82527F99E55088736782ACF292113804    0.90\n",
       "A081CF55A1E8BA606CBEEAB1F5BBD900    2.55\n",
       "Name: tip_amount, dtype: float64"
      ]
     },
     "execution_count": 74,
     "metadata": {},
     "output_type": "execute_result"
    }
   ],
   "source": [
    "ptype[ptype.payment_type == 'CSH'].groupby(ptype.hack_license).sum()['tip_amount'].sort_values()[:5]"
   ]
  },
  {
   "cell_type": "markdown",
   "metadata": {},
   "source": [
    "## 7.\tWhich other factors contribute to determining tip amount?  "
   ]
  },
  {
   "cell_type": "code",
   "execution_count": 79,
   "metadata": {},
   "outputs": [
    {
     "data": {
      "text/html": [
       "<div>\n",
       "<style>\n",
       "    .dataframe thead tr:only-child th {\n",
       "        text-align: right;\n",
       "    }\n",
       "\n",
       "    .dataframe thead th {\n",
       "        text-align: left;\n",
       "    }\n",
       "\n",
       "    .dataframe tbody tr th {\n",
       "        vertical-align: top;\n",
       "    }\n",
       "</style>\n",
       "<table border=\"1\" class=\"dataframe\">\n",
       "  <thead>\n",
       "    <tr style=\"text-align: right;\">\n",
       "      <th></th>\n",
       "      <th>medallion</th>\n",
       "      <th>hack_license</th>\n",
       "      <th>vendor_id</th>\n",
       "      <th>rate_code</th>\n",
       "      <th>store_and_fwd_flag</th>\n",
       "      <th>pickup_datetime</th>\n",
       "      <th>dropoff_datetime</th>\n",
       "      <th>passenger_count</th>\n",
       "      <th>trip_time_in_secs</th>\n",
       "      <th>trip_distance</th>\n",
       "      <th>pickup_longitude</th>\n",
       "      <th>pickup_latitude</th>\n",
       "      <th>dropoff_longitude</th>\n",
       "      <th>dropoff_latitude</th>\n",
       "    </tr>\n",
       "  </thead>\n",
       "  <tbody>\n",
       "    <tr>\n",
       "      <th>0</th>\n",
       "      <td>000318C2E3E6381580E5C99910A60668</td>\n",
       "      <td>4F463F528AF7914347A78753E4D2C379</td>\n",
       "      <td>VTS</td>\n",
       "      <td>1</td>\n",
       "      <td>NaN</td>\n",
       "      <td>2013-05-02 09:46:00</td>\n",
       "      <td>2013-05-02 09:58:00</td>\n",
       "      <td>6</td>\n",
       "      <td>720</td>\n",
       "      <td>1.42</td>\n",
       "      <td>-73.991974</td>\n",
       "      <td>40.744053</td>\n",
       "      <td>-73.980209</td>\n",
       "      <td>40.760834</td>\n",
       "    </tr>\n",
       "    <tr>\n",
       "      <th>1</th>\n",
       "      <td>000318C2E3E6381580E5C99910A60668</td>\n",
       "      <td>FA9844DF87F8CD641DB58BC2A0E466F8</td>\n",
       "      <td>VTS</td>\n",
       "      <td>1</td>\n",
       "      <td>NaN</td>\n",
       "      <td>2013-05-12 13:13:00</td>\n",
       "      <td>2013-05-12 13:19:00</td>\n",
       "      <td>4</td>\n",
       "      <td>360</td>\n",
       "      <td>1.26</td>\n",
       "      <td>-73.973801</td>\n",
       "      <td>40.792110</td>\n",
       "      <td>-73.984917</td>\n",
       "      <td>40.779270</td>\n",
       "    </tr>\n",
       "  </tbody>\n",
       "</table>\n",
       "</div>"
      ],
      "text/plain": [
       "                          medallion                      hack_license  \\\n",
       "0  000318C2E3E6381580E5C99910A60668  4F463F528AF7914347A78753E4D2C379   \n",
       "1  000318C2E3E6381580E5C99910A60668  FA9844DF87F8CD641DB58BC2A0E466F8   \n",
       "\n",
       "  vendor_id  rate_code  store_and_fwd_flag      pickup_datetime  \\\n",
       "0       VTS          1                 NaN  2013-05-02 09:46:00   \n",
       "1       VTS          1                 NaN  2013-05-12 13:13:00   \n",
       "\n",
       "      dropoff_datetime  passenger_count  trip_time_in_secs  trip_distance  \\\n",
       "0  2013-05-02 09:58:00                6                720           1.42   \n",
       "1  2013-05-12 13:19:00                4                360           1.26   \n",
       "\n",
       "   pickup_longitude  pickup_latitude  dropoff_longitude  dropoff_latitude  \n",
       "0        -73.991974        40.744053         -73.980209         40.760834  \n",
       "1        -73.973801        40.792110         -73.984917         40.779270  "
      ]
     },
     "execution_count": 79,
     "metadata": {},
     "output_type": "execute_result"
    }
   ],
   "source": [
    "tripfare = pd.read_csv('fare5.csv')\n",
    "tripdata = pd.read_csv('data5.csv')\n",
    "tripdata.head(2)"
   ]
  },
  {
   "cell_type": "code",
   "execution_count": 84,
   "metadata": {
    "scrolled": true
   },
   "outputs": [
    {
     "data": {
      "text/html": [
       "<div>\n",
       "<style>\n",
       "    .dataframe thead tr:only-child th {\n",
       "        text-align: right;\n",
       "    }\n",
       "\n",
       "    .dataframe thead th {\n",
       "        text-align: left;\n",
       "    }\n",
       "\n",
       "    .dataframe tbody tr th {\n",
       "        vertical-align: top;\n",
       "    }\n",
       "</style>\n",
       "<table border=\"1\" class=\"dataframe\">\n",
       "  <thead>\n",
       "    <tr style=\"text-align: right;\">\n",
       "      <th></th>\n",
       "      <th>medallion_x</th>\n",
       "      <th>hack_license_x</th>\n",
       "      <th>vendor_id_x</th>\n",
       "      <th>rate_code</th>\n",
       "      <th>store_and_fwd_flag</th>\n",
       "      <th>pickup_datetime</th>\n",
       "      <th>dropoff_datetime</th>\n",
       "      <th>passenger_count</th>\n",
       "      <th>trip_time_in_secs</th>\n",
       "      <th>trip_distance</th>\n",
       "      <th>...</th>\n",
       "      <th>hack_license_y</th>\n",
       "      <th>vendor_id_y</th>\n",
       "      <th>payment_type</th>\n",
       "      <th>fare_amount</th>\n",
       "      <th>surcharge</th>\n",
       "      <th>mta_tax</th>\n",
       "      <th>tip_amount</th>\n",
       "      <th>tolls_amount</th>\n",
       "      <th>total_amount</th>\n",
       "      <th>tippercent</th>\n",
       "    </tr>\n",
       "  </thead>\n",
       "  <tbody>\n",
       "    <tr>\n",
       "      <th>0</th>\n",
       "      <td>000318C2E3E6381580E5C99910A60668</td>\n",
       "      <td>FA9844DF87F8CD641DB58BC2A0E466F8</td>\n",
       "      <td>VTS</td>\n",
       "      <td>1</td>\n",
       "      <td>NaN</td>\n",
       "      <td>2013-05-12 13:13:00</td>\n",
       "      <td>2013-05-12 13:19:00</td>\n",
       "      <td>4</td>\n",
       "      <td>360</td>\n",
       "      <td>1.26</td>\n",
       "      <td>...</td>\n",
       "      <td>CE6F6C0974F6E2B490EC87F118897FA5</td>\n",
       "      <td>VTS</td>\n",
       "      <td>CRD</td>\n",
       "      <td>4.0</td>\n",
       "      <td>0.0</td>\n",
       "      <td>0.5</td>\n",
       "      <td>2.0</td>\n",
       "      <td>0.0</td>\n",
       "      <td>6.5</td>\n",
       "      <td>50.0</td>\n",
       "    </tr>\n",
       "    <tr>\n",
       "      <th>1</th>\n",
       "      <td>000318C2E3E6381580E5C99910A60668</td>\n",
       "      <td>FA9844DF87F8CD641DB58BC2A0E466F8</td>\n",
       "      <td>VTS</td>\n",
       "      <td>1</td>\n",
       "      <td>NaN</td>\n",
       "      <td>2013-05-12 13:13:00</td>\n",
       "      <td>2013-05-12 13:19:00</td>\n",
       "      <td>4</td>\n",
       "      <td>360</td>\n",
       "      <td>1.26</td>\n",
       "      <td>...</td>\n",
       "      <td>D64BE6233FA523225C683CCD44FF2750</td>\n",
       "      <td>VTS</td>\n",
       "      <td>CRD</td>\n",
       "      <td>5.0</td>\n",
       "      <td>0.0</td>\n",
       "      <td>0.5</td>\n",
       "      <td>1.5</td>\n",
       "      <td>0.0</td>\n",
       "      <td>7.0</td>\n",
       "      <td>30.0</td>\n",
       "    </tr>\n",
       "  </tbody>\n",
       "</table>\n",
       "<p>2 rows × 25 columns</p>\n",
       "</div>"
      ],
      "text/plain": [
       "                        medallion_x                    hack_license_x  \\\n",
       "0  000318C2E3E6381580E5C99910A60668  FA9844DF87F8CD641DB58BC2A0E466F8   \n",
       "1  000318C2E3E6381580E5C99910A60668  FA9844DF87F8CD641DB58BC2A0E466F8   \n",
       "\n",
       "  vendor_id_x  rate_code  store_and_fwd_flag      pickup_datetime  \\\n",
       "0         VTS          1                 NaN  2013-05-12 13:13:00   \n",
       "1         VTS          1                 NaN  2013-05-12 13:13:00   \n",
       "\n",
       "      dropoff_datetime  passenger_count  trip_time_in_secs  trip_distance  \\\n",
       "0  2013-05-12 13:19:00                4                360           1.26   \n",
       "1  2013-05-12 13:19:00                4                360           1.26   \n",
       "\n",
       "      ...                        hack_license_y  vendor_id_y  payment_type  \\\n",
       "0     ...      CE6F6C0974F6E2B490EC87F118897FA5          VTS           CRD   \n",
       "1     ...      D64BE6233FA523225C683CCD44FF2750          VTS           CRD   \n",
       "\n",
       "   fare_amount surcharge mta_tax tip_amount tolls_amount  total_amount  \\\n",
       "0          4.0       0.0     0.5        2.0          0.0           6.5   \n",
       "1          5.0       0.0     0.5        1.5          0.0           7.0   \n",
       "\n",
       "   tippercent  \n",
       "0        50.0  \n",
       "1        30.0  \n",
       "\n",
       "[2 rows x 25 columns]"
      ]
     },
     "execution_count": 84,
     "metadata": {},
     "output_type": "execute_result"
    }
   ],
   "source": [
    "tripsAll = tripdata.merge(tripfare, on=['pickup_datetime'])\n",
    "tripsAll['tippercent'] = tripsAll['tip_amount'] / tripsAll['fare_amount']*100\n",
    "tripsAll.head(2)"
   ]
  },
  {
   "cell_type": "markdown",
   "metadata": {},
   "source": [
    "## Multivariate model; \n",
    "considering fare, duration, passengers no., rateand distance"
   ]
  },
  {
   "cell_type": "code",
   "execution_count": 105,
   "metadata": {},
   "outputs": [
    {
     "data": {
      "text/html": [
       "<table class=\"simpletable\">\n",
       "<caption>OLS Regression Results</caption>\n",
       "<tr>\n",
       "  <th>Dep. Variable:</th>       <td>tip_amount</td>    <th>  R-squared:         </th> <td>   0.378</td> \n",
       "</tr>\n",
       "<tr>\n",
       "  <th>Model:</th>                   <td>OLS</td>       <th>  Adj. R-squared:    </th> <td>   0.377</td> \n",
       "</tr>\n",
       "<tr>\n",
       "  <th>Method:</th>             <td>Least Squares</td>  <th>  F-statistic:       </th> <td>   287.7</td> \n",
       "</tr>\n",
       "<tr>\n",
       "  <th>Date:</th>             <td>Thu, 19 Apr 2018</td> <th>  Prob (F-statistic):</th> <td>7.21e-241</td>\n",
       "</tr>\n",
       "<tr>\n",
       "  <th>Time:</th>                 <td>22:27:33</td>     <th>  Log-Likelihood:    </th> <td> -2856.8</td> \n",
       "</tr>\n",
       "<tr>\n",
       "  <th>No. Observations:</th>      <td>  2371</td>      <th>  AIC:               </th> <td>   5726.</td> \n",
       "</tr>\n",
       "<tr>\n",
       "  <th>Df Residuals:</th>          <td>  2365</td>      <th>  BIC:               </th> <td>   5760.</td> \n",
       "</tr>\n",
       "<tr>\n",
       "  <th>Df Model:</th>              <td>     5</td>      <th>                     </th>     <td> </td>    \n",
       "</tr>\n",
       "<tr>\n",
       "  <th>Covariance Type:</th>      <td>nonrobust</td>    <th>                     </th>     <td> </td>    \n",
       "</tr>\n",
       "</table>\n",
       "<table class=\"simpletable\">\n",
       "<tr>\n",
       "          <td></td>             <th>coef</th>     <th>std err</th>      <th>t</th>      <th>P>|t|</th>  <th>[0.025</th>    <th>0.975]</th>  \n",
       "</tr>\n",
       "<tr>\n",
       "  <th>Intercept</th>         <td>    0.5139</td> <td>    0.078</td> <td>    6.594</td> <td> 0.000</td> <td>    0.361</td> <td>    0.667</td>\n",
       "</tr>\n",
       "<tr>\n",
       "  <th>fare_amount</th>       <td>    0.1181</td> <td>    0.003</td> <td>   37.847</td> <td> 0.000</td> <td>    0.112</td> <td>    0.124</td>\n",
       "</tr>\n",
       "<tr>\n",
       "  <th>trip_time_in_secs</th> <td>-5.106e-05</td> <td> 4.95e-05</td> <td>   -1.031</td> <td> 0.303</td> <td>   -0.000</td> <td> 4.61e-05</td>\n",
       "</tr>\n",
       "<tr>\n",
       "  <th>passenger_count</th>   <td>    0.0141</td> <td>    0.009</td> <td>    1.512</td> <td> 0.131</td> <td>   -0.004</td> <td>    0.032</td>\n",
       "</tr>\n",
       "<tr>\n",
       "  <th>rate_code</th>         <td>   -0.0406</td> <td>    0.075</td> <td>   -0.544</td> <td> 0.587</td> <td>   -0.187</td> <td>    0.106</td>\n",
       "</tr>\n",
       "<tr>\n",
       "  <th>trip_distance</th>     <td>    0.0136</td> <td>    0.010</td> <td>    1.406</td> <td> 0.160</td> <td>   -0.005</td> <td>    0.033</td>\n",
       "</tr>\n",
       "</table>\n",
       "<table class=\"simpletable\">\n",
       "<tr>\n",
       "  <th>Omnibus:</th>       <td>1871.661</td> <th>  Durbin-Watson:     </th>  <td>   1.725</td>  \n",
       "</tr>\n",
       "<tr>\n",
       "  <th>Prob(Omnibus):</th>  <td> 0.000</td>  <th>  Jarque-Bera (JB):  </th> <td>1727694.874</td>\n",
       "</tr>\n",
       "<tr>\n",
       "  <th>Skew:</th>           <td>-2.412</td>  <th>  Prob(JB):          </th>  <td>    0.00</td>  \n",
       "</tr>\n",
       "<tr>\n",
       "  <th>Kurtosis:</th>       <td>135.155</td> <th>  Cond. No.          </th>  <td>6.84e+03</td>  \n",
       "</tr>\n",
       "</table>"
      ],
      "text/plain": [
       "<class 'statsmodels.iolib.summary.Summary'>\n",
       "\"\"\"\n",
       "                            OLS Regression Results                            \n",
       "==============================================================================\n",
       "Dep. Variable:             tip_amount   R-squared:                       0.378\n",
       "Model:                            OLS   Adj. R-squared:                  0.377\n",
       "Method:                 Least Squares   F-statistic:                     287.7\n",
       "Date:                Thu, 19 Apr 2018   Prob (F-statistic):          7.21e-241\n",
       "Time:                        22:27:33   Log-Likelihood:                -2856.8\n",
       "No. Observations:                2371   AIC:                             5726.\n",
       "Df Residuals:                    2365   BIC:                             5760.\n",
       "Df Model:                           5                                         \n",
       "Covariance Type:            nonrobust                                         \n",
       "=====================================================================================\n",
       "                        coef    std err          t      P>|t|      [0.025      0.975]\n",
       "-------------------------------------------------------------------------------------\n",
       "Intercept             0.5139      0.078      6.594      0.000       0.361       0.667\n",
       "fare_amount           0.1181      0.003     37.847      0.000       0.112       0.124\n",
       "trip_time_in_secs -5.106e-05   4.95e-05     -1.031      0.303      -0.000    4.61e-05\n",
       "passenger_count       0.0141      0.009      1.512      0.131      -0.004       0.032\n",
       "rate_code            -0.0406      0.075     -0.544      0.587      -0.187       0.106\n",
       "trip_distance         0.0136      0.010      1.406      0.160      -0.005       0.033\n",
       "==============================================================================\n",
       "Omnibus:                     1871.661   Durbin-Watson:                   1.725\n",
       "Prob(Omnibus):                  0.000   Jarque-Bera (JB):          1727694.874\n",
       "Skew:                          -2.412   Prob(JB):                         0.00\n",
       "Kurtosis:                     135.155   Cond. No.                     6.84e+03\n",
       "==============================================================================\n",
       "\n",
       "Warnings:\n",
       "[1] Standard Errors assume that the covariance matrix of the errors is correctly specified.\n",
       "[2] The condition number is large, 6.84e+03. This might indicate that there are\n",
       "strong multicollinearity or other numerical problems.\n",
       "\"\"\""
      ]
     },
     "execution_count": 105,
     "metadata": {},
     "output_type": "execute_result"
    }
   ],
   "source": [
    "m_Fare_Dur_pass = smf.ols(formula=\n",
    "                'tip_amount ~ fare_amount + trip_time_in_secs + passenger_count + rate_code + trip_distance', \n",
    "                   data=tripsAll).fit()\n",
    "m_Fare_Dur_pass.summary()"
   ]
  },
  {
   "attachments": {},
   "cell_type": "markdown",
   "metadata": {},
   "source": [
    "## Fig.10 \n",
    "Summary multivariate model trying to explain the variance of tip amount by fare_amount + trip_duration + rate + no. of passengers + distance. The coefficient of the variables show that most of them contribute very poorly to the predictive power of the model. "
   ]
  }
 ],
 "metadata": {
  "kernelspec": {
   "display_name": "Python 3",
   "language": "python",
   "name": "python3"
  },
  "language_info": {
   "codemirror_mode": {
    "name": "ipython",
    "version": 3
   },
   "file_extension": ".py",
   "mimetype": "text/x-python",
   "name": "python",
   "nbconvert_exporter": "python",
   "pygments_lexer": "ipython3",
   "version": "3.6.1"
  }
 },
 "nbformat": 4,
 "nbformat_minor": 2
}
